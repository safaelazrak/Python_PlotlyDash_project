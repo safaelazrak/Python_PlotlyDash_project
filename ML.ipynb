{
 "cells": [
  {
   "cell_type": "markdown",
   "metadata": {},
   "source": [
    "# Creating a lgistic regression to predict high sunshine production"
   ]
  },
  {
   "cell_type": "markdown",
   "metadata": {},
   "source": [
    "## Import the relevant libraries"
   ]
  },
  {
   "cell_type": "code",
   "execution_count": 95,
   "metadata": {},
   "outputs": [],
   "source": [
    "import pandas as pd\n",
    "import numpy as np"
   ]
  },
  {
   "cell_type": "code",
   "execution_count": 216,
   "metadata": {},
   "outputs": [],
   "source": [
    "df = pd.read_csv(\"C:/Users/charl/PythonWorkshop/Notebooks/Mldata.csv\",engine='python')"
   ]
  },
  {
   "cell_type": "code",
   "execution_count": 217,
   "metadata": {
    "scrolled": true
   },
   "outputs": [
    {
     "data": {
      "text/html": [
       "<div>\n",
       "<style scoped>\n",
       "    .dataframe tbody tr th:only-of-type {\n",
       "        vertical-align: middle;\n",
       "    }\n",
       "\n",
       "    .dataframe tbody tr th {\n",
       "        vertical-align: top;\n",
       "    }\n",
       "\n",
       "    .dataframe thead th {\n",
       "        text-align: right;\n",
       "    }\n",
       "</style>\n",
       "<table border=\"1\" class=\"dataframe\">\n",
       "  <thead>\n",
       "    <tr style=\"text-align: right;\">\n",
       "      <th></th>\n",
       "      <th>region_nord</th>\n",
       "      <th>region_centre</th>\n",
       "      <th>region_sud</th>\n",
       "      <th>Month Value</th>\n",
       "      <th>Year Value</th>\n",
       "      <th>Vitesse du vent ÃƒÂ  100m (m/s)</th>\n",
       "      <th>Production ÃƒÂ©olienne (GWh)</th>\n",
       "      <th>Rayonnement solaire global (W/m2)</th>\n",
       "      <th>Production solaire (GWh)</th>\n",
       "    </tr>\n",
       "  </thead>\n",
       "  <tbody>\n",
       "    <tr>\n",
       "      <th>0</th>\n",
       "      <td>1</td>\n",
       "      <td>0</td>\n",
       "      <td>0</td>\n",
       "      <td>2</td>\n",
       "      <td>2014</td>\n",
       "      <td>NaN</td>\n",
       "      <td>6.518965</td>\n",
       "      <td>NaN</td>\n",
       "      <td>2.931509</td>\n",
       "    </tr>\n",
       "    <tr>\n",
       "      <th>1</th>\n",
       "      <td>0</td>\n",
       "      <td>0</td>\n",
       "      <td>1</td>\n",
       "      <td>3</td>\n",
       "      <td>2014</td>\n",
       "      <td>NaN</td>\n",
       "      <td>220.644746</td>\n",
       "      <td>NaN</td>\n",
       "      <td>116.568735</td>\n",
       "    </tr>\n",
       "    <tr>\n",
       "      <th>2</th>\n",
       "      <td>0</td>\n",
       "      <td>0</td>\n",
       "      <td>1</td>\n",
       "      <td>4</td>\n",
       "      <td>2014</td>\n",
       "      <td>NaN</td>\n",
       "      <td>189.563606</td>\n",
       "      <td>NaN</td>\n",
       "      <td>125.730294</td>\n",
       "    </tr>\n",
       "    <tr>\n",
       "      <th>3</th>\n",
       "      <td>0</td>\n",
       "      <td>0</td>\n",
       "      <td>1</td>\n",
       "      <td>4</td>\n",
       "      <td>2014</td>\n",
       "      <td>NaN</td>\n",
       "      <td>9.671714</td>\n",
       "      <td>NaN</td>\n",
       "      <td>98.951709</td>\n",
       "    </tr>\n",
       "    <tr>\n",
       "      <th>4</th>\n",
       "      <td>1</td>\n",
       "      <td>0</td>\n",
       "      <td>0</td>\n",
       "      <td>5</td>\n",
       "      <td>2014</td>\n",
       "      <td>NaN</td>\n",
       "      <td>363.412141</td>\n",
       "      <td>NaN</td>\n",
       "      <td>58.899353</td>\n",
       "    </tr>\n",
       "    <tr>\n",
       "      <th>...</th>\n",
       "      <td>...</td>\n",
       "      <td>...</td>\n",
       "      <td>...</td>\n",
       "      <td>...</td>\n",
       "      <td>...</td>\n",
       "      <td>...</td>\n",
       "      <td>...</td>\n",
       "      <td>...</td>\n",
       "      <td>...</td>\n",
       "    </tr>\n",
       "    <tr>\n",
       "      <th>1248</th>\n",
       "      <td>0</td>\n",
       "      <td>0</td>\n",
       "      <td>1</td>\n",
       "      <td>3</td>\n",
       "      <td>2021</td>\n",
       "      <td>0.0</td>\n",
       "      <td>NaN</td>\n",
       "      <td>5.82</td>\n",
       "      <td>NaN</td>\n",
       "    </tr>\n",
       "    <tr>\n",
       "      <th>1249</th>\n",
       "      <td>0</td>\n",
       "      <td>0</td>\n",
       "      <td>1</td>\n",
       "      <td>3</td>\n",
       "      <td>2021</td>\n",
       "      <td>0.0</td>\n",
       "      <td>NaN</td>\n",
       "      <td>6.74</td>\n",
       "      <td>NaN</td>\n",
       "    </tr>\n",
       "    <tr>\n",
       "      <th>1250</th>\n",
       "      <td>0</td>\n",
       "      <td>1</td>\n",
       "      <td>0</td>\n",
       "      <td>3</td>\n",
       "      <td>2021</td>\n",
       "      <td>0.0</td>\n",
       "      <td>NaN</td>\n",
       "      <td>7.15</td>\n",
       "      <td>NaN</td>\n",
       "    </tr>\n",
       "    <tr>\n",
       "      <th>1251</th>\n",
       "      <td>0</td>\n",
       "      <td>0</td>\n",
       "      <td>1</td>\n",
       "      <td>3</td>\n",
       "      <td>2021</td>\n",
       "      <td>0.0</td>\n",
       "      <td>NaN</td>\n",
       "      <td>6.04</td>\n",
       "      <td>NaN</td>\n",
       "    </tr>\n",
       "    <tr>\n",
       "      <th>1252</th>\n",
       "      <td>1</td>\n",
       "      <td>0</td>\n",
       "      <td>0</td>\n",
       "      <td>3</td>\n",
       "      <td>2021</td>\n",
       "      <td>0.0</td>\n",
       "      <td>NaN</td>\n",
       "      <td>6.35</td>\n",
       "      <td>NaN</td>\n",
       "    </tr>\n",
       "  </tbody>\n",
       "</table>\n",
       "<p>1253 rows × 9 columns</p>\n",
       "</div>"
      ],
      "text/plain": [
       "      region_nord  region_centre  region_sud  Month Value  Year Value  \\\n",
       "0               1              0           0            2        2014   \n",
       "1               0              0           1            3        2014   \n",
       "2               0              0           1            4        2014   \n",
       "3               0              0           1            4        2014   \n",
       "4               1              0           0            5        2014   \n",
       "...           ...            ...         ...          ...         ...   \n",
       "1248            0              0           1            3        2021   \n",
       "1249            0              0           1            3        2021   \n",
       "1250            0              1           0            3        2021   \n",
       "1251            0              0           1            3        2021   \n",
       "1252            1              0           0            3        2021   \n",
       "\n",
       "      Vitesse du vent ÃƒÂ  100m (m/s)  Production ÃƒÂ©olienne (GWh)  \\\n",
       "0                                 NaN                      6.518965   \n",
       "1                                 NaN                    220.644746   \n",
       "2                                 NaN                    189.563606   \n",
       "3                                 NaN                      9.671714   \n",
       "4                                 NaN                    363.412141   \n",
       "...                               ...                           ...   \n",
       "1248                              0.0                           NaN   \n",
       "1249                              0.0                           NaN   \n",
       "1250                              0.0                           NaN   \n",
       "1251                              0.0                           NaN   \n",
       "1252                              0.0                           NaN   \n",
       "\n",
       "      Rayonnement solaire global (W/m2)  Production solaire (GWh)  \n",
       "0                                   NaN                  2.931509  \n",
       "1                                   NaN                116.568735  \n",
       "2                                   NaN                125.730294  \n",
       "3                                   NaN                 98.951709  \n",
       "4                                   NaN                 58.899353  \n",
       "...                                 ...                       ...  \n",
       "1248                               5.82                       NaN  \n",
       "1249                               6.74                       NaN  \n",
       "1250                               7.15                       NaN  \n",
       "1251                               6.04                       NaN  \n",
       "1252                               6.35                       NaN  \n",
       "\n",
       "[1253 rows x 9 columns]"
      ]
     },
     "execution_count": 217,
     "metadata": {},
     "output_type": "execute_result"
    }
   ],
   "source": [
    "df"
   ]
  },
  {
   "cell_type": "code",
   "execution_count": 218,
   "metadata": {},
   "outputs": [],
   "source": [
    "df = df[df['Rayonnement solaire global (W/m2)'].notna()]"
   ]
  },
  {
   "cell_type": "code",
   "execution_count": 219,
   "metadata": {},
   "outputs": [
    {
     "data": {
      "text/plain": [
       "['region_nord',\n",
       " 'region_centre',\n",
       " 'region_sud',\n",
       " 'Month Value',\n",
       " 'Year Value',\n",
       " 'Vitesse du vent ÃƒÂ\\xa0 100m (m/s)',\n",
       " 'Production ÃƒÂ©olienne (GWh)',\n",
       " 'Rayonnement solaire global (W/m2)',\n",
       " 'Production solaire (GWh)']"
      ]
     },
     "execution_count": 219,
     "metadata": {},
     "output_type": "execute_result"
    }
   ],
   "source": [
    "cols = df.columns.tolist()\n",
    "cols"
   ]
  },
  {
   "cell_type": "markdown",
   "metadata": {},
   "source": [
    "### Eolien"
   ]
  },
  {
   "cell_type": "code",
   "execution_count": 220,
   "metadata": {},
   "outputs": [],
   "source": [
    "colse = cols[:7]"
   ]
  },
  {
   "cell_type": "code",
   "execution_count": 221,
   "metadata": {},
   "outputs": [
    {
     "data": {
      "text/plain": [
       "['region_nord',\n",
       " 'region_centre',\n",
       " 'region_sud',\n",
       " 'Month Value',\n",
       " 'Year Value',\n",
       " 'Vitesse du vent ÃƒÂ\\xa0 100m (m/s)',\n",
       " 'Production ÃƒÂ©olienne (GWh)']"
      ]
     },
     "execution_count": 221,
     "metadata": {},
     "output_type": "execute_result"
    }
   ],
   "source": [
    "colse"
   ]
  },
  {
   "cell_type": "code",
   "execution_count": 222,
   "metadata": {},
   "outputs": [],
   "source": [
    "dfe = df[colse]"
   ]
  },
  {
   "cell_type": "code",
   "execution_count": 223,
   "metadata": {
    "scrolled": true
   },
   "outputs": [
    {
     "data": {
      "text/html": [
       "<div>\n",
       "<style scoped>\n",
       "    .dataframe tbody tr th:only-of-type {\n",
       "        vertical-align: middle;\n",
       "    }\n",
       "\n",
       "    .dataframe tbody tr th {\n",
       "        vertical-align: top;\n",
       "    }\n",
       "\n",
       "    .dataframe thead th {\n",
       "        text-align: right;\n",
       "    }\n",
       "</style>\n",
       "<table border=\"1\" class=\"dataframe\">\n",
       "  <thead>\n",
       "    <tr style=\"text-align: right;\">\n",
       "      <th></th>\n",
       "      <th>region_nord</th>\n",
       "      <th>region_centre</th>\n",
       "      <th>region_sud</th>\n",
       "      <th>Month Value</th>\n",
       "      <th>Year Value</th>\n",
       "      <th>Vitesse du vent ÃƒÂ  100m (m/s)</th>\n",
       "      <th>Production ÃƒÂ©olienne (GWh)</th>\n",
       "    </tr>\n",
       "  </thead>\n",
       "  <tbody>\n",
       "    <tr>\n",
       "      <th>47</th>\n",
       "      <td>0</td>\n",
       "      <td>1</td>\n",
       "      <td>0</td>\n",
       "      <td>1</td>\n",
       "      <td>2016</td>\n",
       "      <td>40.527611</td>\n",
       "      <td>262.374714</td>\n",
       "    </tr>\n",
       "    <tr>\n",
       "      <th>48</th>\n",
       "      <td>1</td>\n",
       "      <td>0</td>\n",
       "      <td>0</td>\n",
       "      <td>1</td>\n",
       "      <td>2016</td>\n",
       "      <td>37.960810</td>\n",
       "      <td>746.281139</td>\n",
       "    </tr>\n",
       "    <tr>\n",
       "      <th>49</th>\n",
       "      <td>0</td>\n",
       "      <td>1</td>\n",
       "      <td>0</td>\n",
       "      <td>2</td>\n",
       "      <td>2016</td>\n",
       "      <td>86.446078</td>\n",
       "      <td>164.631573</td>\n",
       "    </tr>\n",
       "    <tr>\n",
       "      <th>50</th>\n",
       "      <td>0</td>\n",
       "      <td>1</td>\n",
       "      <td>0</td>\n",
       "      <td>2</td>\n",
       "      <td>2016</td>\n",
       "      <td>74.723319</td>\n",
       "      <td>200.313391</td>\n",
       "    </tr>\n",
       "    <tr>\n",
       "      <th>51</th>\n",
       "      <td>0</td>\n",
       "      <td>0</td>\n",
       "      <td>1</td>\n",
       "      <td>2</td>\n",
       "      <td>2016</td>\n",
       "      <td>86.865388</td>\n",
       "      <td>125.600846</td>\n",
       "    </tr>\n",
       "    <tr>\n",
       "      <th>...</th>\n",
       "      <td>...</td>\n",
       "      <td>...</td>\n",
       "      <td>...</td>\n",
       "      <td>...</td>\n",
       "      <td>...</td>\n",
       "      <td>...</td>\n",
       "      <td>...</td>\n",
       "    </tr>\n",
       "    <tr>\n",
       "      <th>1248</th>\n",
       "      <td>0</td>\n",
       "      <td>0</td>\n",
       "      <td>1</td>\n",
       "      <td>3</td>\n",
       "      <td>2021</td>\n",
       "      <td>0.000000</td>\n",
       "      <td>NaN</td>\n",
       "    </tr>\n",
       "    <tr>\n",
       "      <th>1249</th>\n",
       "      <td>0</td>\n",
       "      <td>0</td>\n",
       "      <td>1</td>\n",
       "      <td>3</td>\n",
       "      <td>2021</td>\n",
       "      <td>0.000000</td>\n",
       "      <td>NaN</td>\n",
       "    </tr>\n",
       "    <tr>\n",
       "      <th>1250</th>\n",
       "      <td>0</td>\n",
       "      <td>1</td>\n",
       "      <td>0</td>\n",
       "      <td>3</td>\n",
       "      <td>2021</td>\n",
       "      <td>0.000000</td>\n",
       "      <td>NaN</td>\n",
       "    </tr>\n",
       "    <tr>\n",
       "      <th>1251</th>\n",
       "      <td>0</td>\n",
       "      <td>0</td>\n",
       "      <td>1</td>\n",
       "      <td>3</td>\n",
       "      <td>2021</td>\n",
       "      <td>0.000000</td>\n",
       "      <td>NaN</td>\n",
       "    </tr>\n",
       "    <tr>\n",
       "      <th>1252</th>\n",
       "      <td>1</td>\n",
       "      <td>0</td>\n",
       "      <td>0</td>\n",
       "      <td>3</td>\n",
       "      <td>2021</td>\n",
       "      <td>0.000000</td>\n",
       "      <td>NaN</td>\n",
       "    </tr>\n",
       "  </tbody>\n",
       "</table>\n",
       "<p>821 rows × 7 columns</p>\n",
       "</div>"
      ],
      "text/plain": [
       "      region_nord  region_centre  region_sud  Month Value  Year Value  \\\n",
       "47              0              1           0            1        2016   \n",
       "48              1              0           0            1        2016   \n",
       "49              0              1           0            2        2016   \n",
       "50              0              1           0            2        2016   \n",
       "51              0              0           1            2        2016   \n",
       "...           ...            ...         ...          ...         ...   \n",
       "1248            0              0           1            3        2021   \n",
       "1249            0              0           1            3        2021   \n",
       "1250            0              1           0            3        2021   \n",
       "1251            0              0           1            3        2021   \n",
       "1252            1              0           0            3        2021   \n",
       "\n",
       "      Vitesse du vent ÃƒÂ  100m (m/s)  Production ÃƒÂ©olienne (GWh)  \n",
       "47                          40.527611                    262.374714  \n",
       "48                          37.960810                    746.281139  \n",
       "49                          86.446078                    164.631573  \n",
       "50                          74.723319                    200.313391  \n",
       "51                          86.865388                    125.600846  \n",
       "...                               ...                           ...  \n",
       "1248                         0.000000                           NaN  \n",
       "1249                         0.000000                           NaN  \n",
       "1250                         0.000000                           NaN  \n",
       "1251                         0.000000                           NaN  \n",
       "1252                         0.000000                           NaN  \n",
       "\n",
       "[821 rows x 7 columns]"
      ]
     },
     "execution_count": 223,
     "metadata": {},
     "output_type": "execute_result"
    }
   ],
   "source": [
    "dfe"
   ]
  },
  {
   "cell_type": "code",
   "execution_count": 224,
   "metadata": {},
   "outputs": [],
   "source": [
    "from sklearn.datasets import make_regression\n",
    "from sklearn.model_selection import train_test_split"
   ]
  },
  {
   "cell_type": "code",
   "execution_count": 225,
   "metadata": {},
   "outputs": [],
   "source": [
    "X,y = make_regression(n_samples=1000, n_features=6,\n",
    "                                 n_informative=3, n_targets=1,  \n",
    "                                 tail_strength=0.5,  \n",
    "                                 shuffle=True, coef=False, random_state=0)\n",
    "notnans = dfe['Production ÃƒÂ©olienne (GWh)'].notnull()\n",
    "df_notnans = df[notnans]\n",
    "X_train, X_test, y_train, y_test = train_test_split(df_notnans[colse[:6]], df_notnans[colse[6:7]],\n",
    "                                                    train_size=0.75,\n",
    "                                                    random_state=10000)"
   ]
  },
  {
   "cell_type": "code",
   "execution_count": 226,
   "metadata": {},
   "outputs": [
    {
     "name": "stdout",
     "output_type": "stream",
     "text": [
      "The prediction score on the test data is 12.62%\n"
     ]
    }
   ],
   "source": [
    "from sklearn.ensemble import RandomForestRegressor\n",
    "from sklearn.multioutput import MultiOutputRegressor\n",
    "from sklearn.model_selection import train_test_split\n",
    "\n",
    "regr_multirf = MultiOutputRegressor(RandomForestRegressor(max_depth=30,\n",
    "                                                          random_state=0))\n",
    "\n",
    "# Fit on the train data\n",
    "regr_multirf.fit(X_train, y_train)\n",
    "\n",
    "# Check the prediction score\n",
    "score = regr_multirf.score(X_test, y_test)\n",
    "print(\"The prediction score on the test data is {:.2f}%\".format(score*100))"
   ]
  },
  {
   "cell_type": "code",
   "execution_count": 227,
   "metadata": {},
   "outputs": [
    {
     "data": {
      "text/html": [
       "<div>\n",
       "<style scoped>\n",
       "    .dataframe tbody tr th:only-of-type {\n",
       "        vertical-align: middle;\n",
       "    }\n",
       "\n",
       "    .dataframe tbody tr th {\n",
       "        vertical-align: top;\n",
       "    }\n",
       "\n",
       "    .dataframe thead th {\n",
       "        text-align: right;\n",
       "    }\n",
       "</style>\n",
       "<table border=\"1\" class=\"dataframe\">\n",
       "  <thead>\n",
       "    <tr style=\"text-align: right;\">\n",
       "      <th></th>\n",
       "      <th>region_nord</th>\n",
       "      <th>region_centre</th>\n",
       "      <th>region_sud</th>\n",
       "      <th>Month Value</th>\n",
       "      <th>Year Value</th>\n",
       "      <th>Vitesse du vent ÃƒÂ  100m (m/s)</th>\n",
       "      <th>Production ÃƒÂ©olienne (GWh)</th>\n",
       "    </tr>\n",
       "  </thead>\n",
       "  <tbody>\n",
       "    <tr>\n",
       "      <th>1092</th>\n",
       "      <td>1</td>\n",
       "      <td>0</td>\n",
       "      <td>0</td>\n",
       "      <td>1</td>\n",
       "      <td>2016</td>\n",
       "      <td>38.776437</td>\n",
       "      <td>430.271374</td>\n",
       "    </tr>\n",
       "    <tr>\n",
       "      <th>1093</th>\n",
       "      <td>0</td>\n",
       "      <td>0</td>\n",
       "      <td>0</td>\n",
       "      <td>1</td>\n",
       "      <td>2016</td>\n",
       "      <td>38.879595</td>\n",
       "      <td>212.409420</td>\n",
       "    </tr>\n",
       "    <tr>\n",
       "      <th>1094</th>\n",
       "      <td>1</td>\n",
       "      <td>0</td>\n",
       "      <td>0</td>\n",
       "      <td>2</td>\n",
       "      <td>2016</td>\n",
       "      <td>65.883750</td>\n",
       "      <td>293.116688</td>\n",
       "    </tr>\n",
       "    <tr>\n",
       "      <th>1095</th>\n",
       "      <td>0</td>\n",
       "      <td>0</td>\n",
       "      <td>0</td>\n",
       "      <td>2</td>\n",
       "      <td>2016</td>\n",
       "      <td>74.548664</td>\n",
       "      <td>199.927732</td>\n",
       "    </tr>\n",
       "    <tr>\n",
       "      <th>1096</th>\n",
       "      <td>1</td>\n",
       "      <td>0</td>\n",
       "      <td>0</td>\n",
       "      <td>3</td>\n",
       "      <td>2016</td>\n",
       "      <td>118.706316</td>\n",
       "      <td>232.478392</td>\n",
       "    </tr>\n",
       "    <tr>\n",
       "      <th>...</th>\n",
       "      <td>...</td>\n",
       "      <td>...</td>\n",
       "      <td>...</td>\n",
       "      <td>...</td>\n",
       "      <td>...</td>\n",
       "      <td>...</td>\n",
       "      <td>...</td>\n",
       "    </tr>\n",
       "    <tr>\n",
       "      <th>1248</th>\n",
       "      <td>0</td>\n",
       "      <td>0</td>\n",
       "      <td>1</td>\n",
       "      <td>3</td>\n",
       "      <td>2021</td>\n",
       "      <td>0.000000</td>\n",
       "      <td>264.092258</td>\n",
       "    </tr>\n",
       "    <tr>\n",
       "      <th>1249</th>\n",
       "      <td>0</td>\n",
       "      <td>0</td>\n",
       "      <td>1</td>\n",
       "      <td>3</td>\n",
       "      <td>2021</td>\n",
       "      <td>0.000000</td>\n",
       "      <td>264.092258</td>\n",
       "    </tr>\n",
       "    <tr>\n",
       "      <th>1250</th>\n",
       "      <td>0</td>\n",
       "      <td>1</td>\n",
       "      <td>0</td>\n",
       "      <td>3</td>\n",
       "      <td>2021</td>\n",
       "      <td>0.000000</td>\n",
       "      <td>308.272595</td>\n",
       "    </tr>\n",
       "    <tr>\n",
       "      <th>1251</th>\n",
       "      <td>0</td>\n",
       "      <td>0</td>\n",
       "      <td>1</td>\n",
       "      <td>3</td>\n",
       "      <td>2021</td>\n",
       "      <td>0.000000</td>\n",
       "      <td>264.092258</td>\n",
       "    </tr>\n",
       "    <tr>\n",
       "      <th>1252</th>\n",
       "      <td>1</td>\n",
       "      <td>0</td>\n",
       "      <td>0</td>\n",
       "      <td>3</td>\n",
       "      <td>2021</td>\n",
       "      <td>0.000000</td>\n",
       "      <td>1112.764009</td>\n",
       "    </tr>\n",
       "  </tbody>\n",
       "</table>\n",
       "<p>161 rows × 7 columns</p>\n",
       "</div>"
      ],
      "text/plain": [
       "      region_nord  region_centre  region_sud  Month Value  Year Value  \\\n",
       "1092            1              0           0            1        2016   \n",
       "1093            0              0           0            1        2016   \n",
       "1094            1              0           0            2        2016   \n",
       "1095            0              0           0            2        2016   \n",
       "1096            1              0           0            3        2016   \n",
       "...           ...            ...         ...          ...         ...   \n",
       "1248            0              0           1            3        2021   \n",
       "1249            0              0           1            3        2021   \n",
       "1250            0              1           0            3        2021   \n",
       "1251            0              0           1            3        2021   \n",
       "1252            1              0           0            3        2021   \n",
       "\n",
       "      Vitesse du vent ÃƒÂ  100m (m/s)  Production ÃƒÂ©olienne (GWh)  \n",
       "1092                        38.776437                    430.271374  \n",
       "1093                        38.879595                    212.409420  \n",
       "1094                        65.883750                    293.116688  \n",
       "1095                        74.548664                    199.927732  \n",
       "1096                       118.706316                    232.478392  \n",
       "...                               ...                           ...  \n",
       "1248                         0.000000                    264.092258  \n",
       "1249                         0.000000                    264.092258  \n",
       "1250                         0.000000                    308.272595  \n",
       "1251                         0.000000                    264.092258  \n",
       "1252                         0.000000                   1112.764009  \n",
       "\n",
       "[161 rows x 7 columns]"
      ]
     },
     "execution_count": 227,
     "metadata": {},
     "output_type": "execute_result"
    }
   ],
   "source": [
    "df_nans = dfe.loc[~notnans].copy()\n",
    "df_nans[colse[6:7]] = regr_multirf.predict(df_nans[colse[0:6]])\n",
    "df_nans"
   ]
  },
  {
   "cell_type": "markdown",
   "metadata": {},
   "source": [
    "### Solaire"
   ]
  },
  {
   "cell_type": "code",
   "execution_count": 228,
   "metadata": {},
   "outputs": [],
   "source": [
    "colss = cols[:5] + cols[7:9]"
   ]
  },
  {
   "cell_type": "code",
   "execution_count": 229,
   "metadata": {},
   "outputs": [
    {
     "data": {
      "text/plain": [
       "['region_nord',\n",
       " 'region_centre',\n",
       " 'region_sud',\n",
       " 'Month Value',\n",
       " 'Year Value',\n",
       " 'Rayonnement solaire global (W/m2)',\n",
       " 'Production solaire (GWh)']"
      ]
     },
     "execution_count": 229,
     "metadata": {},
     "output_type": "execute_result"
    }
   ],
   "source": [
    "colss"
   ]
  },
  {
   "cell_type": "code",
   "execution_count": 230,
   "metadata": {},
   "outputs": [],
   "source": [
    "dfs = df[colss]"
   ]
  },
  {
   "cell_type": "code",
   "execution_count": 231,
   "metadata": {
    "scrolled": true
   },
   "outputs": [
    {
     "data": {
      "text/html": [
       "<div>\n",
       "<style scoped>\n",
       "    .dataframe tbody tr th:only-of-type {\n",
       "        vertical-align: middle;\n",
       "    }\n",
       "\n",
       "    .dataframe tbody tr th {\n",
       "        vertical-align: top;\n",
       "    }\n",
       "\n",
       "    .dataframe thead th {\n",
       "        text-align: right;\n",
       "    }\n",
       "</style>\n",
       "<table border=\"1\" class=\"dataframe\">\n",
       "  <thead>\n",
       "    <tr style=\"text-align: right;\">\n",
       "      <th></th>\n",
       "      <th>region_nord</th>\n",
       "      <th>region_centre</th>\n",
       "      <th>region_sud</th>\n",
       "      <th>Month Value</th>\n",
       "      <th>Year Value</th>\n",
       "      <th>Rayonnement solaire global (W/m2)</th>\n",
       "      <th>Production solaire (GWh)</th>\n",
       "    </tr>\n",
       "  </thead>\n",
       "  <tbody>\n",
       "    <tr>\n",
       "      <th>47</th>\n",
       "      <td>0</td>\n",
       "      <td>1</td>\n",
       "      <td>0</td>\n",
       "      <td>1</td>\n",
       "      <td>2016</td>\n",
       "      <td>7.466964</td>\n",
       "      <td>7.040643</td>\n",
       "    </tr>\n",
       "    <tr>\n",
       "      <th>48</th>\n",
       "      <td>1</td>\n",
       "      <td>0</td>\n",
       "      <td>0</td>\n",
       "      <td>1</td>\n",
       "      <td>2016</td>\n",
       "      <td>8.295263</td>\n",
       "      <td>5.596140</td>\n",
       "    </tr>\n",
       "    <tr>\n",
       "      <th>49</th>\n",
       "      <td>0</td>\n",
       "      <td>1</td>\n",
       "      <td>0</td>\n",
       "      <td>2</td>\n",
       "      <td>2016</td>\n",
       "      <td>9.242543</td>\n",
       "      <td>23.337292</td>\n",
       "    </tr>\n",
       "    <tr>\n",
       "      <th>50</th>\n",
       "      <td>0</td>\n",
       "      <td>1</td>\n",
       "      <td>0</td>\n",
       "      <td>2</td>\n",
       "      <td>2016</td>\n",
       "      <td>9.946336</td>\n",
       "      <td>9.640264</td>\n",
       "    </tr>\n",
       "    <tr>\n",
       "      <th>51</th>\n",
       "      <td>0</td>\n",
       "      <td>0</td>\n",
       "      <td>1</td>\n",
       "      <td>2</td>\n",
       "      <td>2016</td>\n",
       "      <td>6.508233</td>\n",
       "      <td>116.805294</td>\n",
       "    </tr>\n",
       "    <tr>\n",
       "      <th>...</th>\n",
       "      <td>...</td>\n",
       "      <td>...</td>\n",
       "      <td>...</td>\n",
       "      <td>...</td>\n",
       "      <td>...</td>\n",
       "      <td>...</td>\n",
       "      <td>...</td>\n",
       "    </tr>\n",
       "    <tr>\n",
       "      <th>1248</th>\n",
       "      <td>0</td>\n",
       "      <td>0</td>\n",
       "      <td>1</td>\n",
       "      <td>3</td>\n",
       "      <td>2021</td>\n",
       "      <td>5.820000</td>\n",
       "      <td>NaN</td>\n",
       "    </tr>\n",
       "    <tr>\n",
       "      <th>1249</th>\n",
       "      <td>0</td>\n",
       "      <td>0</td>\n",
       "      <td>1</td>\n",
       "      <td>3</td>\n",
       "      <td>2021</td>\n",
       "      <td>6.740000</td>\n",
       "      <td>NaN</td>\n",
       "    </tr>\n",
       "    <tr>\n",
       "      <th>1250</th>\n",
       "      <td>0</td>\n",
       "      <td>1</td>\n",
       "      <td>0</td>\n",
       "      <td>3</td>\n",
       "      <td>2021</td>\n",
       "      <td>7.150000</td>\n",
       "      <td>NaN</td>\n",
       "    </tr>\n",
       "    <tr>\n",
       "      <th>1251</th>\n",
       "      <td>0</td>\n",
       "      <td>0</td>\n",
       "      <td>1</td>\n",
       "      <td>3</td>\n",
       "      <td>2021</td>\n",
       "      <td>6.040000</td>\n",
       "      <td>NaN</td>\n",
       "    </tr>\n",
       "    <tr>\n",
       "      <th>1252</th>\n",
       "      <td>1</td>\n",
       "      <td>0</td>\n",
       "      <td>0</td>\n",
       "      <td>3</td>\n",
       "      <td>2021</td>\n",
       "      <td>6.350000</td>\n",
       "      <td>NaN</td>\n",
       "    </tr>\n",
       "  </tbody>\n",
       "</table>\n",
       "<p>821 rows × 7 columns</p>\n",
       "</div>"
      ],
      "text/plain": [
       "      region_nord  region_centre  region_sud  Month Value  Year Value  \\\n",
       "47              0              1           0            1        2016   \n",
       "48              1              0           0            1        2016   \n",
       "49              0              1           0            2        2016   \n",
       "50              0              1           0            2        2016   \n",
       "51              0              0           1            2        2016   \n",
       "...           ...            ...         ...          ...         ...   \n",
       "1248            0              0           1            3        2021   \n",
       "1249            0              0           1            3        2021   \n",
       "1250            0              1           0            3        2021   \n",
       "1251            0              0           1            3        2021   \n",
       "1252            1              0           0            3        2021   \n",
       "\n",
       "      Rayonnement solaire global (W/m2)  Production solaire (GWh)  \n",
       "47                             7.466964                  7.040643  \n",
       "48                             8.295263                  5.596140  \n",
       "49                             9.242543                 23.337292  \n",
       "50                             9.946336                  9.640264  \n",
       "51                             6.508233                116.805294  \n",
       "...                                 ...                       ...  \n",
       "1248                           5.820000                       NaN  \n",
       "1249                           6.740000                       NaN  \n",
       "1250                           7.150000                       NaN  \n",
       "1251                           6.040000                       NaN  \n",
       "1252                           6.350000                       NaN  \n",
       "\n",
       "[821 rows x 7 columns]"
      ]
     },
     "execution_count": 231,
     "metadata": {},
     "output_type": "execute_result"
    }
   ],
   "source": [
    "dfs"
   ]
  },
  {
   "cell_type": "code",
   "execution_count": 232,
   "metadata": {},
   "outputs": [],
   "source": [
    "X,y = make_regression(n_samples=10000, n_features=6,\n",
    "                                 n_informative=3, n_targets=1,  \n",
    "                                 tail_strength=0.5,  \n",
    "                                 shuffle=True, coef=False, random_state=0)\n",
    "notnans = dfs['Production solaire (GWh)'].notnull()\n",
    "df_notnans = df[notnans]\n",
    "X_train, X_test, y_train, y_test = train_test_split(df_notnans[colss[:6]], df_notnans[colss[6:7]],\n",
    "                                                    train_size=0.75,\n",
    "                                                    random_state=1000)"
   ]
  },
  {
   "cell_type": "code",
   "execution_count": 233,
   "metadata": {},
   "outputs": [
    {
     "name": "stdout",
     "output_type": "stream",
     "text": [
      "The prediction score on the test data is 49.60%\n"
     ]
    }
   ],
   "source": [
    "regr_multirf = MultiOutputRegressor(RandomForestRegressor(max_depth=30,\n",
    "                                                          random_state=0))\n",
    "\n",
    "# Fit on the train data\n",
    "regr_multirf.fit(X_train, y_train)\n",
    "\n",
    "# Check the prediction score\n",
    "score = regr_multirf.score(X_test, y_test)\n",
    "print(\"The prediction score on the test data is {:.2f}%\".format(score*100))"
   ]
  },
  {
   "cell_type": "code",
   "execution_count": 234,
   "metadata": {},
   "outputs": [
    {
     "data": {
      "text/html": [
       "<div>\n",
       "<style scoped>\n",
       "    .dataframe tbody tr th:only-of-type {\n",
       "        vertical-align: middle;\n",
       "    }\n",
       "\n",
       "    .dataframe tbody tr th {\n",
       "        vertical-align: top;\n",
       "    }\n",
       "\n",
       "    .dataframe thead th {\n",
       "        text-align: right;\n",
       "    }\n",
       "</style>\n",
       "<table border=\"1\" class=\"dataframe\">\n",
       "  <thead>\n",
       "    <tr style=\"text-align: right;\">\n",
       "      <th></th>\n",
       "      <th>region_nord</th>\n",
       "      <th>region_centre</th>\n",
       "      <th>region_sud</th>\n",
       "      <th>Month Value</th>\n",
       "      <th>Year Value</th>\n",
       "      <th>Rayonnement solaire global (W/m2)</th>\n",
       "      <th>Production solaire (GWh)</th>\n",
       "    </tr>\n",
       "  </thead>\n",
       "  <tbody>\n",
       "    <tr>\n",
       "      <th>1092</th>\n",
       "      <td>1</td>\n",
       "      <td>0</td>\n",
       "      <td>0</td>\n",
       "      <td>1</td>\n",
       "      <td>2016</td>\n",
       "      <td>6.130850</td>\n",
       "      <td>10.600893</td>\n",
       "    </tr>\n",
       "    <tr>\n",
       "      <th>1093</th>\n",
       "      <td>0</td>\n",
       "      <td>0</td>\n",
       "      <td>0</td>\n",
       "      <td>1</td>\n",
       "      <td>2016</td>\n",
       "      <td>7.882551</td>\n",
       "      <td>6.865031</td>\n",
       "    </tr>\n",
       "    <tr>\n",
       "      <th>1094</th>\n",
       "      <td>1</td>\n",
       "      <td>0</td>\n",
       "      <td>0</td>\n",
       "      <td>2</td>\n",
       "      <td>2016</td>\n",
       "      <td>6.926638</td>\n",
       "      <td>7.970764</td>\n",
       "    </tr>\n",
       "    <tr>\n",
       "      <th>1095</th>\n",
       "      <td>0</td>\n",
       "      <td>0</td>\n",
       "      <td>0</td>\n",
       "      <td>2</td>\n",
       "      <td>2016</td>\n",
       "      <td>8.113793</td>\n",
       "      <td>11.261300</td>\n",
       "    </tr>\n",
       "    <tr>\n",
       "      <th>1096</th>\n",
       "      <td>1</td>\n",
       "      <td>0</td>\n",
       "      <td>0</td>\n",
       "      <td>3</td>\n",
       "      <td>2016</td>\n",
       "      <td>5.711842</td>\n",
       "      <td>15.387454</td>\n",
       "    </tr>\n",
       "    <tr>\n",
       "      <th>...</th>\n",
       "      <td>...</td>\n",
       "      <td>...</td>\n",
       "      <td>...</td>\n",
       "      <td>...</td>\n",
       "      <td>...</td>\n",
       "      <td>...</td>\n",
       "      <td>...</td>\n",
       "    </tr>\n",
       "    <tr>\n",
       "      <th>1248</th>\n",
       "      <td>0</td>\n",
       "      <td>0</td>\n",
       "      <td>1</td>\n",
       "      <td>3</td>\n",
       "      <td>2021</td>\n",
       "      <td>5.820000</td>\n",
       "      <td>212.833877</td>\n",
       "    </tr>\n",
       "    <tr>\n",
       "      <th>1249</th>\n",
       "      <td>0</td>\n",
       "      <td>0</td>\n",
       "      <td>1</td>\n",
       "      <td>3</td>\n",
       "      <td>2021</td>\n",
       "      <td>6.740000</td>\n",
       "      <td>211.701197</td>\n",
       "    </tr>\n",
       "    <tr>\n",
       "      <th>1250</th>\n",
       "      <td>0</td>\n",
       "      <td>1</td>\n",
       "      <td>0</td>\n",
       "      <td>3</td>\n",
       "      <td>2021</td>\n",
       "      <td>7.150000</td>\n",
       "      <td>31.504386</td>\n",
       "    </tr>\n",
       "    <tr>\n",
       "      <th>1251</th>\n",
       "      <td>0</td>\n",
       "      <td>0</td>\n",
       "      <td>1</td>\n",
       "      <td>3</td>\n",
       "      <td>2021</td>\n",
       "      <td>6.040000</td>\n",
       "      <td>175.097647</td>\n",
       "    </tr>\n",
       "    <tr>\n",
       "      <th>1252</th>\n",
       "      <td>1</td>\n",
       "      <td>0</td>\n",
       "      <td>0</td>\n",
       "      <td>3</td>\n",
       "      <td>2021</td>\n",
       "      <td>6.350000</td>\n",
       "      <td>21.190362</td>\n",
       "    </tr>\n",
       "  </tbody>\n",
       "</table>\n",
       "<p>161 rows × 7 columns</p>\n",
       "</div>"
      ],
      "text/plain": [
       "      region_nord  region_centre  region_sud  Month Value  Year Value  \\\n",
       "1092            1              0           0            1        2016   \n",
       "1093            0              0           0            1        2016   \n",
       "1094            1              0           0            2        2016   \n",
       "1095            0              0           0            2        2016   \n",
       "1096            1              0           0            3        2016   \n",
       "...           ...            ...         ...          ...         ...   \n",
       "1248            0              0           1            3        2021   \n",
       "1249            0              0           1            3        2021   \n",
       "1250            0              1           0            3        2021   \n",
       "1251            0              0           1            3        2021   \n",
       "1252            1              0           0            3        2021   \n",
       "\n",
       "      Rayonnement solaire global (W/m2)  Production solaire (GWh)  \n",
       "1092                           6.130850                 10.600893  \n",
       "1093                           7.882551                  6.865031  \n",
       "1094                           6.926638                  7.970764  \n",
       "1095                           8.113793                 11.261300  \n",
       "1096                           5.711842                 15.387454  \n",
       "...                                 ...                       ...  \n",
       "1248                           5.820000                212.833877  \n",
       "1249                           6.740000                211.701197  \n",
       "1250                           7.150000                 31.504386  \n",
       "1251                           6.040000                175.097647  \n",
       "1252                           6.350000                 21.190362  \n",
       "\n",
       "[161 rows x 7 columns]"
      ]
     },
     "execution_count": 234,
     "metadata": {},
     "output_type": "execute_result"
    }
   ],
   "source": [
    "df_nans = dfs.loc[~notnans].copy()\n",
    "df_nans[colss[6:7]] = regr_multirf.predict(df_nans[colss[0:6]])\n",
    "df_nans"
   ]
  },
  {
   "cell_type": "markdown",
   "metadata": {},
   "source": [
    "# Create the targets"
   ]
  },
  {
   "cell_type": "code",
   "execution_count": 284,
   "metadata": {},
   "outputs": [],
   "source": [
    "targets = np.where(df_nans['Production solaire (GWh)'] > df_nans['Production solaire (GWh)'].median(), 1, 0)"
   ]
  },
  {
   "cell_type": "code",
   "execution_count": 283,
   "metadata": {},
   "outputs": [
    {
     "data": {
      "text/plain": [
       "(161,)"
      ]
     },
     "execution_count": 283,
     "metadata": {},
     "output_type": "execute_result"
    }
   ],
   "source": [
    "targets.shape"
   ]
  },
  {
   "cell_type": "code",
   "execution_count": 237,
   "metadata": {},
   "outputs": [],
   "source": [
    "df_nans['Execessive Solar'] = targets"
   ]
  },
  {
   "cell_type": "markdown",
   "metadata": {},
   "source": [
    "# A comment on the targets"
   ]
  },
  {
   "cell_type": "code",
   "execution_count": 238,
   "metadata": {},
   "outputs": [
    {
     "data": {
      "text/plain": [
       "0.4968944099378882"
      ]
     },
     "execution_count": 238,
     "metadata": {},
     "output_type": "execute_result"
    }
   ],
   "source": [
    "targets.sum() / targets.shape[0]"
   ]
  },
  {
   "cell_type": "code",
   "execution_count": 239,
   "metadata": {},
   "outputs": [],
   "source": [
    "data_with_targets = df_nans"
   ]
  },
  {
   "cell_type": "code",
   "execution_count": 240,
   "metadata": {},
   "outputs": [
    {
     "data": {
      "text/html": [
       "<div>\n",
       "<style scoped>\n",
       "    .dataframe tbody tr th:only-of-type {\n",
       "        vertical-align: middle;\n",
       "    }\n",
       "\n",
       "    .dataframe tbody tr th {\n",
       "        vertical-align: top;\n",
       "    }\n",
       "\n",
       "    .dataframe thead th {\n",
       "        text-align: right;\n",
       "    }\n",
       "</style>\n",
       "<table border=\"1\" class=\"dataframe\">\n",
       "  <thead>\n",
       "    <tr style=\"text-align: right;\">\n",
       "      <th></th>\n",
       "      <th>region_nord</th>\n",
       "      <th>region_centre</th>\n",
       "      <th>region_sud</th>\n",
       "      <th>Month Value</th>\n",
       "      <th>Year Value</th>\n",
       "      <th>Rayonnement solaire global (W/m2)</th>\n",
       "      <th>Production solaire (GWh)</th>\n",
       "      <th>Execessive Solar</th>\n",
       "    </tr>\n",
       "  </thead>\n",
       "  <tbody>\n",
       "    <tr>\n",
       "      <th>1092</th>\n",
       "      <td>1</td>\n",
       "      <td>0</td>\n",
       "      <td>0</td>\n",
       "      <td>1</td>\n",
       "      <td>2016</td>\n",
       "      <td>6.130850</td>\n",
       "      <td>10.600893</td>\n",
       "      <td>0</td>\n",
       "    </tr>\n",
       "    <tr>\n",
       "      <th>1093</th>\n",
       "      <td>0</td>\n",
       "      <td>0</td>\n",
       "      <td>0</td>\n",
       "      <td>1</td>\n",
       "      <td>2016</td>\n",
       "      <td>7.882551</td>\n",
       "      <td>6.865031</td>\n",
       "      <td>0</td>\n",
       "    </tr>\n",
       "    <tr>\n",
       "      <th>1094</th>\n",
       "      <td>1</td>\n",
       "      <td>0</td>\n",
       "      <td>0</td>\n",
       "      <td>2</td>\n",
       "      <td>2016</td>\n",
       "      <td>6.926638</td>\n",
       "      <td>7.970764</td>\n",
       "      <td>0</td>\n",
       "    </tr>\n",
       "    <tr>\n",
       "      <th>1095</th>\n",
       "      <td>0</td>\n",
       "      <td>0</td>\n",
       "      <td>0</td>\n",
       "      <td>2</td>\n",
       "      <td>2016</td>\n",
       "      <td>8.113793</td>\n",
       "      <td>11.261300</td>\n",
       "      <td>0</td>\n",
       "    </tr>\n",
       "    <tr>\n",
       "      <th>1096</th>\n",
       "      <td>1</td>\n",
       "      <td>0</td>\n",
       "      <td>0</td>\n",
       "      <td>3</td>\n",
       "      <td>2016</td>\n",
       "      <td>5.711842</td>\n",
       "      <td>15.387454</td>\n",
       "      <td>0</td>\n",
       "    </tr>\n",
       "    <tr>\n",
       "      <th>...</th>\n",
       "      <td>...</td>\n",
       "      <td>...</td>\n",
       "      <td>...</td>\n",
       "      <td>...</td>\n",
       "      <td>...</td>\n",
       "      <td>...</td>\n",
       "      <td>...</td>\n",
       "      <td>...</td>\n",
       "    </tr>\n",
       "    <tr>\n",
       "      <th>1248</th>\n",
       "      <td>0</td>\n",
       "      <td>0</td>\n",
       "      <td>1</td>\n",
       "      <td>3</td>\n",
       "      <td>2021</td>\n",
       "      <td>5.820000</td>\n",
       "      <td>212.833877</td>\n",
       "      <td>1</td>\n",
       "    </tr>\n",
       "    <tr>\n",
       "      <th>1249</th>\n",
       "      <td>0</td>\n",
       "      <td>0</td>\n",
       "      <td>1</td>\n",
       "      <td>3</td>\n",
       "      <td>2021</td>\n",
       "      <td>6.740000</td>\n",
       "      <td>211.701197</td>\n",
       "      <td>1</td>\n",
       "    </tr>\n",
       "    <tr>\n",
       "      <th>1250</th>\n",
       "      <td>0</td>\n",
       "      <td>1</td>\n",
       "      <td>0</td>\n",
       "      <td>3</td>\n",
       "      <td>2021</td>\n",
       "      <td>7.150000</td>\n",
       "      <td>31.504386</td>\n",
       "      <td>1</td>\n",
       "    </tr>\n",
       "    <tr>\n",
       "      <th>1251</th>\n",
       "      <td>0</td>\n",
       "      <td>0</td>\n",
       "      <td>1</td>\n",
       "      <td>3</td>\n",
       "      <td>2021</td>\n",
       "      <td>6.040000</td>\n",
       "      <td>175.097647</td>\n",
       "      <td>1</td>\n",
       "    </tr>\n",
       "    <tr>\n",
       "      <th>1252</th>\n",
       "      <td>1</td>\n",
       "      <td>0</td>\n",
       "      <td>0</td>\n",
       "      <td>3</td>\n",
       "      <td>2021</td>\n",
       "      <td>6.350000</td>\n",
       "      <td>21.190362</td>\n",
       "      <td>1</td>\n",
       "    </tr>\n",
       "  </tbody>\n",
       "</table>\n",
       "<p>161 rows × 8 columns</p>\n",
       "</div>"
      ],
      "text/plain": [
       "      region_nord  region_centre  region_sud  Month Value  Year Value  \\\n",
       "1092            1              0           0            1        2016   \n",
       "1093            0              0           0            1        2016   \n",
       "1094            1              0           0            2        2016   \n",
       "1095            0              0           0            2        2016   \n",
       "1096            1              0           0            3        2016   \n",
       "...           ...            ...         ...          ...         ...   \n",
       "1248            0              0           1            3        2021   \n",
       "1249            0              0           1            3        2021   \n",
       "1250            0              1           0            3        2021   \n",
       "1251            0              0           1            3        2021   \n",
       "1252            1              0           0            3        2021   \n",
       "\n",
       "      Rayonnement solaire global (W/m2)  Production solaire (GWh)  \\\n",
       "1092                           6.130850                 10.600893   \n",
       "1093                           7.882551                  6.865031   \n",
       "1094                           6.926638                  7.970764   \n",
       "1095                           8.113793                 11.261300   \n",
       "1096                           5.711842                 15.387454   \n",
       "...                                 ...                       ...   \n",
       "1248                           5.820000                212.833877   \n",
       "1249                           6.740000                211.701197   \n",
       "1250                           7.150000                 31.504386   \n",
       "1251                           6.040000                175.097647   \n",
       "1252                           6.350000                 21.190362   \n",
       "\n",
       "      Execessive Solar  \n",
       "1092                 0  \n",
       "1093                 0  \n",
       "1094                 0  \n",
       "1095                 0  \n",
       "1096                 0  \n",
       "...                ...  \n",
       "1248                 1  \n",
       "1249                 1  \n",
       "1250                 1  \n",
       "1251                 1  \n",
       "1252                 1  \n",
       "\n",
       "[161 rows x 8 columns]"
      ]
     },
     "execution_count": 240,
     "metadata": {},
     "output_type": "execute_result"
    }
   ],
   "source": [
    "data_with_targets"
   ]
  },
  {
   "cell_type": "markdown",
   "metadata": {},
   "source": [
    "# Select the inputs for the regression"
   ]
  },
  {
   "cell_type": "code",
   "execution_count": 241,
   "metadata": {},
   "outputs": [
    {
     "data": {
      "text/plain": [
       "(161, 8)"
      ]
     },
     "execution_count": 241,
     "metadata": {},
     "output_type": "execute_result"
    }
   ],
   "source": [
    "data_with_targets.shape"
   ]
  },
  {
   "cell_type": "code",
   "execution_count": 242,
   "metadata": {},
   "outputs": [
    {
     "data": {
      "text/html": [
       "<div>\n",
       "<style scoped>\n",
       "    .dataframe tbody tr th:only-of-type {\n",
       "        vertical-align: middle;\n",
       "    }\n",
       "\n",
       "    .dataframe tbody tr th {\n",
       "        vertical-align: top;\n",
       "    }\n",
       "\n",
       "    .dataframe thead th {\n",
       "        text-align: right;\n",
       "    }\n",
       "</style>\n",
       "<table border=\"1\" class=\"dataframe\">\n",
       "  <thead>\n",
       "    <tr style=\"text-align: right;\">\n",
       "      <th></th>\n",
       "      <th>region_nord</th>\n",
       "      <th>region_centre</th>\n",
       "      <th>region_sud</th>\n",
       "      <th>Month Value</th>\n",
       "      <th>Year Value</th>\n",
       "      <th>Rayonnement solaire global (W/m2)</th>\n",
       "      <th>Production solaire (GWh)</th>\n",
       "    </tr>\n",
       "  </thead>\n",
       "  <tbody>\n",
       "    <tr>\n",
       "      <th>1092</th>\n",
       "      <td>1</td>\n",
       "      <td>0</td>\n",
       "      <td>0</td>\n",
       "      <td>1</td>\n",
       "      <td>2016</td>\n",
       "      <td>6.130850</td>\n",
       "      <td>10.600893</td>\n",
       "    </tr>\n",
       "    <tr>\n",
       "      <th>1093</th>\n",
       "      <td>0</td>\n",
       "      <td>0</td>\n",
       "      <td>0</td>\n",
       "      <td>1</td>\n",
       "      <td>2016</td>\n",
       "      <td>7.882551</td>\n",
       "      <td>6.865031</td>\n",
       "    </tr>\n",
       "    <tr>\n",
       "      <th>1094</th>\n",
       "      <td>1</td>\n",
       "      <td>0</td>\n",
       "      <td>0</td>\n",
       "      <td>2</td>\n",
       "      <td>2016</td>\n",
       "      <td>6.926638</td>\n",
       "      <td>7.970764</td>\n",
       "    </tr>\n",
       "    <tr>\n",
       "      <th>1095</th>\n",
       "      <td>0</td>\n",
       "      <td>0</td>\n",
       "      <td>0</td>\n",
       "      <td>2</td>\n",
       "      <td>2016</td>\n",
       "      <td>8.113793</td>\n",
       "      <td>11.261300</td>\n",
       "    </tr>\n",
       "    <tr>\n",
       "      <th>1096</th>\n",
       "      <td>1</td>\n",
       "      <td>0</td>\n",
       "      <td>0</td>\n",
       "      <td>3</td>\n",
       "      <td>2016</td>\n",
       "      <td>5.711842</td>\n",
       "      <td>15.387454</td>\n",
       "    </tr>\n",
       "    <tr>\n",
       "      <th>...</th>\n",
       "      <td>...</td>\n",
       "      <td>...</td>\n",
       "      <td>...</td>\n",
       "      <td>...</td>\n",
       "      <td>...</td>\n",
       "      <td>...</td>\n",
       "      <td>...</td>\n",
       "    </tr>\n",
       "    <tr>\n",
       "      <th>1248</th>\n",
       "      <td>0</td>\n",
       "      <td>0</td>\n",
       "      <td>1</td>\n",
       "      <td>3</td>\n",
       "      <td>2021</td>\n",
       "      <td>5.820000</td>\n",
       "      <td>212.833877</td>\n",
       "    </tr>\n",
       "    <tr>\n",
       "      <th>1249</th>\n",
       "      <td>0</td>\n",
       "      <td>0</td>\n",
       "      <td>1</td>\n",
       "      <td>3</td>\n",
       "      <td>2021</td>\n",
       "      <td>6.740000</td>\n",
       "      <td>211.701197</td>\n",
       "    </tr>\n",
       "    <tr>\n",
       "      <th>1250</th>\n",
       "      <td>0</td>\n",
       "      <td>1</td>\n",
       "      <td>0</td>\n",
       "      <td>3</td>\n",
       "      <td>2021</td>\n",
       "      <td>7.150000</td>\n",
       "      <td>31.504386</td>\n",
       "    </tr>\n",
       "    <tr>\n",
       "      <th>1251</th>\n",
       "      <td>0</td>\n",
       "      <td>0</td>\n",
       "      <td>1</td>\n",
       "      <td>3</td>\n",
       "      <td>2021</td>\n",
       "      <td>6.040000</td>\n",
       "      <td>175.097647</td>\n",
       "    </tr>\n",
       "    <tr>\n",
       "      <th>1252</th>\n",
       "      <td>1</td>\n",
       "      <td>0</td>\n",
       "      <td>0</td>\n",
       "      <td>3</td>\n",
       "      <td>2021</td>\n",
       "      <td>6.350000</td>\n",
       "      <td>21.190362</td>\n",
       "    </tr>\n",
       "  </tbody>\n",
       "</table>\n",
       "<p>161 rows × 7 columns</p>\n",
       "</div>"
      ],
      "text/plain": [
       "      region_nord  region_centre  region_sud  Month Value  Year Value  \\\n",
       "1092            1              0           0            1        2016   \n",
       "1093            0              0           0            1        2016   \n",
       "1094            1              0           0            2        2016   \n",
       "1095            0              0           0            2        2016   \n",
       "1096            1              0           0            3        2016   \n",
       "...           ...            ...         ...          ...         ...   \n",
       "1248            0              0           1            3        2021   \n",
       "1249            0              0           1            3        2021   \n",
       "1250            0              1           0            3        2021   \n",
       "1251            0              0           1            3        2021   \n",
       "1252            1              0           0            3        2021   \n",
       "\n",
       "      Rayonnement solaire global (W/m2)  Production solaire (GWh)  \n",
       "1092                           6.130850                 10.600893  \n",
       "1093                           7.882551                  6.865031  \n",
       "1094                           6.926638                  7.970764  \n",
       "1095                           8.113793                 11.261300  \n",
       "1096                           5.711842                 15.387454  \n",
       "...                                 ...                       ...  \n",
       "1248                           5.820000                212.833877  \n",
       "1249                           6.740000                211.701197  \n",
       "1250                           7.150000                 31.504386  \n",
       "1251                           6.040000                175.097647  \n",
       "1252                           6.350000                 21.190362  \n",
       "\n",
       "[161 rows x 7 columns]"
      ]
     },
     "execution_count": 242,
     "metadata": {},
     "output_type": "execute_result"
    }
   ],
   "source": [
    "unscaled_inputs = data_with_targets.iloc[:,:-1]\n",
    "unscaled_inputs"
   ]
  },
  {
   "cell_type": "markdown",
   "metadata": {},
   "source": [
    "# Standardize the data"
   ]
  },
  {
   "cell_type": "code",
   "execution_count": 243,
   "metadata": {},
   "outputs": [],
   "source": [
    "#from sklearn.preprocessing import StandardScaler\n",
    "\n",
    "solar_scaler = StandardScaler(copy=True, with_mean=True, with_std=True)"
   ]
  },
  {
   "cell_type": "code",
   "execution_count": 244,
   "metadata": {},
   "outputs": [],
   "source": [
    "from sklearn.base import BaseEstimator, TransformerMixin\n",
    "from sklearn.preprocessing import StandardScaler\n",
    "\n",
    "class CustomScaler(BaseEstimator, TransformerMixin):\n",
    "    \n",
    "    def __init__(self,columns,copy=True,with_mean=True,with_std=True):\n",
    "        self.scaler = StandardScaler(copy,with_mean,with_std)\n",
    "        self.columns = columns\n",
    "        self.mean_ = None\n",
    "        self.vr_ = None\n",
    "    \n",
    "    def fit(self, X, y=None):\n",
    "        self.scaler.fit(X[self.columns], y)\n",
    "        self.mean_ = np.mean(X[self.columns])\n",
    "        self.var_ = np.var(X[self.columns])\n",
    "        return self\n",
    "    \n",
    "    def transform(self, X, y=None, copy=None):\n",
    "        init_col_order = X.columns\n",
    "        X_scaled = pd.DataFrame(self.scaler.transform(X[self.columns]), columns=self.columns)\n",
    "        X_not_scaled= X.loc[:,~X.columns.isin(self.columns)]\n",
    "        return pd.concat([X_not_scaled,X_scaled], axis=1)[init_col_order]"
   ]
  },
  {
   "cell_type": "code",
   "execution_count": 245,
   "metadata": {},
   "outputs": [
    {
     "data": {
      "text/plain": [
       "array(['region_nord', 'region_centre', 'region_sud', 'Month Value',\n",
       "       'Year Value', 'Rayonnement solaire global (W/m2)',\n",
       "       'Production solaire (GWh)'], dtype=object)"
      ]
     },
     "execution_count": 245,
     "metadata": {},
     "output_type": "execute_result"
    }
   ],
   "source": [
    "unscaled_inputs.columns.values"
   ]
  },
  {
   "cell_type": "code",
   "execution_count": 310,
   "metadata": {},
   "outputs": [],
   "source": [
    "columns_to_scale = ['region_sud', 'region_nord', 'region_centre', 'Month Value',\n",
    "       'Year Value', 'Rayonnement solaire global (W/m2)', 'Production solaire (GWh)']\n",
    "columns_to_omit = []"
   ]
  },
  {
   "cell_type": "code",
   "execution_count": 311,
   "metadata": {},
   "outputs": [],
   "source": [
    "columns_to_scale = [x for x in unscaled_inputs.columns.values if x not in columns_to_omit]"
   ]
  },
  {
   "cell_type": "code",
   "execution_count": 312,
   "metadata": {
    "scrolled": true
   },
   "outputs": [],
   "source": [
    "solar_scaler = CustomScaler(columns_to_scale)"
   ]
  },
  {
   "cell_type": "code",
   "execution_count": 313,
   "metadata": {},
   "outputs": [
    {
     "name": "stderr",
     "output_type": "stream",
     "text": [
      "C:\\Users\\charl\\anaconda3\\lib\\site-packages\\sklearn\\base.py:193: FutureWarning: From version 0.24, get_params will raise an AttributeError if a parameter cannot be retrieved as an instance attribute. Previously it would return None.\n",
      "  warnings.warn('From version 0.24, get_params will raise an '\n"
     ]
    },
    {
     "data": {
      "text/plain": [
       "CustomScaler(columns=['region_nord', 'region_centre', 'region_sud',\n",
       "                      'Month Value', 'Year Value',\n",
       "                      'Rayonnement solaire global (W/m2)',\n",
       "                      'Production solaire (GWh)'],\n",
       "             copy=None, with_mean=None, with_std=None)"
      ]
     },
     "execution_count": 313,
     "metadata": {},
     "output_type": "execute_result"
    }
   ],
   "source": [
    "solar_scaler.fit(unscaled_inputs)"
   ]
  },
  {
   "cell_type": "code",
   "execution_count": 314,
   "metadata": {},
   "outputs": [],
   "source": [
    "scaled_inputs = solar_scaler.transform(unscaled_inputs)"
   ]
  },
  {
   "cell_type": "code",
   "execution_count": 315,
   "metadata": {},
   "outputs": [
    {
     "name": "stderr",
     "output_type": "stream",
     "text": [
      "C:\\Users\\charl\\anaconda3\\lib\\site-packages\\sklearn\\base.py:193: FutureWarning: From version 0.24, get_params will raise an AttributeError if a parameter cannot be retrieved as an instance attribute. Previously it would return None.\n",
      "  warnings.warn('From version 0.24, get_params will raise an '\n"
     ]
    },
    {
     "data": {
      "text/plain": [
       "CustomScaler(columns=['region_nord', 'region_centre', 'region_sud',\n",
       "                      'Month Value', 'Year Value',\n",
       "                      'Rayonnement solaire global (W/m2)',\n",
       "                      'Production solaire (GWh)'],\n",
       "             copy=None, with_mean=None, with_std=None)"
      ]
     },
     "execution_count": 315,
     "metadata": {},
     "output_type": "execute_result"
    }
   ],
   "source": [
    "solar_scaler.fit(unscaled_inputs)"
   ]
  },
  {
   "cell_type": "code",
   "execution_count": 316,
   "metadata": {},
   "outputs": [],
   "source": [
    "scaled_inputs = solar_scaler.transform(unscaled_inputs)"
   ]
  },
  {
   "cell_type": "code",
   "execution_count": 317,
   "metadata": {
    "scrolled": true
   },
   "outputs": [
    {
     "data": {
      "text/html": [
       "<div>\n",
       "<style scoped>\n",
       "    .dataframe tbody tr th:only-of-type {\n",
       "        vertical-align: middle;\n",
       "    }\n",
       "\n",
       "    .dataframe tbody tr th {\n",
       "        vertical-align: top;\n",
       "    }\n",
       "\n",
       "    .dataframe thead th {\n",
       "        text-align: right;\n",
       "    }\n",
       "</style>\n",
       "<table border=\"1\" class=\"dataframe\">\n",
       "  <thead>\n",
       "    <tr style=\"text-align: right;\">\n",
       "      <th></th>\n",
       "      <th>region_nord</th>\n",
       "      <th>region_centre</th>\n",
       "      <th>region_sud</th>\n",
       "      <th>Month Value</th>\n",
       "      <th>Year Value</th>\n",
       "      <th>Rayonnement solaire global (W/m2)</th>\n",
       "      <th>Production solaire (GWh)</th>\n",
       "    </tr>\n",
       "  </thead>\n",
       "  <tbody>\n",
       "    <tr>\n",
       "      <th>0</th>\n",
       "      <td>1.097943</td>\n",
       "      <td>-0.283790</td>\n",
       "      <td>-0.320530</td>\n",
       "      <td>-1.204950</td>\n",
       "      <td>-1.545362</td>\n",
       "      <td>0.262034</td>\n",
       "      <td>-0.545660</td>\n",
       "    </tr>\n",
       "    <tr>\n",
       "      <th>1</th>\n",
       "      <td>-0.910794</td>\n",
       "      <td>-0.283790</td>\n",
       "      <td>-0.320530</td>\n",
       "      <td>-1.204950</td>\n",
       "      <td>-1.545362</td>\n",
       "      <td>1.672103</td>\n",
       "      <td>-0.652001</td>\n",
       "    </tr>\n",
       "    <tr>\n",
       "      <th>2</th>\n",
       "      <td>1.097943</td>\n",
       "      <td>-0.283790</td>\n",
       "      <td>-0.320530</td>\n",
       "      <td>-0.927415</td>\n",
       "      <td>-1.545362</td>\n",
       "      <td>0.902621</td>\n",
       "      <td>-0.620526</td>\n",
       "    </tr>\n",
       "    <tr>\n",
       "      <th>3</th>\n",
       "      <td>-0.910794</td>\n",
       "      <td>-0.283790</td>\n",
       "      <td>-0.320530</td>\n",
       "      <td>-0.927415</td>\n",
       "      <td>-1.545362</td>\n",
       "      <td>1.858247</td>\n",
       "      <td>-0.526862</td>\n",
       "    </tr>\n",
       "    <tr>\n",
       "      <th>4</th>\n",
       "      <td>1.097943</td>\n",
       "      <td>-0.283790</td>\n",
       "      <td>-0.320530</td>\n",
       "      <td>-0.649880</td>\n",
       "      <td>-1.545362</td>\n",
       "      <td>-0.075255</td>\n",
       "      <td>-0.409411</td>\n",
       "    </tr>\n",
       "    <tr>\n",
       "      <th>...</th>\n",
       "      <td>...</td>\n",
       "      <td>...</td>\n",
       "      <td>...</td>\n",
       "      <td>...</td>\n",
       "      <td>...</td>\n",
       "      <td>...</td>\n",
       "      <td>...</td>\n",
       "    </tr>\n",
       "    <tr>\n",
       "      <th>156</th>\n",
       "      <td>-0.910794</td>\n",
       "      <td>-0.283790</td>\n",
       "      <td>3.119829</td>\n",
       "      <td>-0.649880</td>\n",
       "      <td>1.250181</td>\n",
       "      <td>0.011809</td>\n",
       "      <td>5.210866</td>\n",
       "    </tr>\n",
       "    <tr>\n",
       "      <th>157</th>\n",
       "      <td>-0.910794</td>\n",
       "      <td>-0.283790</td>\n",
       "      <td>3.119829</td>\n",
       "      <td>-0.649880</td>\n",
       "      <td>1.250181</td>\n",
       "      <td>0.752383</td>\n",
       "      <td>5.178625</td>\n",
       "    </tr>\n",
       "    <tr>\n",
       "      <th>158</th>\n",
       "      <td>-0.910794</td>\n",
       "      <td>3.523729</td>\n",
       "      <td>-0.320530</td>\n",
       "      <td>-0.649880</td>\n",
       "      <td>1.250181</td>\n",
       "      <td>1.082421</td>\n",
       "      <td>0.049354</td>\n",
       "    </tr>\n",
       "    <tr>\n",
       "      <th>159</th>\n",
       "      <td>-0.910794</td>\n",
       "      <td>-0.283790</td>\n",
       "      <td>3.119829</td>\n",
       "      <td>-0.649880</td>\n",
       "      <td>1.250181</td>\n",
       "      <td>0.188903</td>\n",
       "      <td>4.136711</td>\n",
       "    </tr>\n",
       "    <tr>\n",
       "      <th>160</th>\n",
       "      <td>1.097943</td>\n",
       "      <td>-0.283790</td>\n",
       "      <td>-0.320530</td>\n",
       "      <td>-0.649880</td>\n",
       "      <td>1.250181</td>\n",
       "      <td>0.438444</td>\n",
       "      <td>-0.244233</td>\n",
       "    </tr>\n",
       "  </tbody>\n",
       "</table>\n",
       "<p>161 rows × 7 columns</p>\n",
       "</div>"
      ],
      "text/plain": [
       "     region_nord  region_centre  region_sud  Month Value  Year Value  \\\n",
       "0       1.097943      -0.283790   -0.320530    -1.204950   -1.545362   \n",
       "1      -0.910794      -0.283790   -0.320530    -1.204950   -1.545362   \n",
       "2       1.097943      -0.283790   -0.320530    -0.927415   -1.545362   \n",
       "3      -0.910794      -0.283790   -0.320530    -0.927415   -1.545362   \n",
       "4       1.097943      -0.283790   -0.320530    -0.649880   -1.545362   \n",
       "..           ...            ...         ...          ...         ...   \n",
       "156    -0.910794      -0.283790    3.119829    -0.649880    1.250181   \n",
       "157    -0.910794      -0.283790    3.119829    -0.649880    1.250181   \n",
       "158    -0.910794       3.523729   -0.320530    -0.649880    1.250181   \n",
       "159    -0.910794      -0.283790    3.119829    -0.649880    1.250181   \n",
       "160     1.097943      -0.283790   -0.320530    -0.649880    1.250181   \n",
       "\n",
       "     Rayonnement solaire global (W/m2)  Production solaire (GWh)  \n",
       "0                             0.262034                 -0.545660  \n",
       "1                             1.672103                 -0.652001  \n",
       "2                             0.902621                 -0.620526  \n",
       "3                             1.858247                 -0.526862  \n",
       "4                            -0.075255                 -0.409411  \n",
       "..                                 ...                       ...  \n",
       "156                           0.011809                  5.210866  \n",
       "157                           0.752383                  5.178625  \n",
       "158                           1.082421                  0.049354  \n",
       "159                           0.188903                  4.136711  \n",
       "160                           0.438444                 -0.244233  \n",
       "\n",
       "[161 rows x 7 columns]"
      ]
     },
     "execution_count": 317,
     "metadata": {},
     "output_type": "execute_result"
    }
   ],
   "source": [
    "scaled_inputs[:161][:]"
   ]
  },
  {
   "cell_type": "code",
   "execution_count": 318,
   "metadata": {},
   "outputs": [
    {
     "data": {
      "text/plain": [
       "(161, 7)"
      ]
     },
     "execution_count": 318,
     "metadata": {},
     "output_type": "execute_result"
    }
   ],
   "source": [
    "scaled_inputs[:161][:].shape"
   ]
  },
  {
   "cell_type": "markdown",
   "metadata": {},
   "source": [
    "# Split the data into train & test and shuffle"
   ]
  },
  {
   "cell_type": "markdown",
   "metadata": {},
   "source": [
    "## Import the relevant module "
   ]
  },
  {
   "cell_type": "code",
   "execution_count": 319,
   "metadata": {},
   "outputs": [],
   "source": [
    "from sklearn.model_selection import train_test_split"
   ]
  },
  {
   "cell_type": "markdown",
   "metadata": {},
   "source": [
    "## Split"
   ]
  },
  {
   "cell_type": "code",
   "execution_count": 320,
   "metadata": {},
   "outputs": [
    {
     "data": {
      "text/plain": [
       "[     region_nord  region_centre  region_sud  Month Value  Year Value  \\\n",
       " 137    -0.910794       3.523729   -0.320530    -0.927415    1.250181   \n",
       " 5      -0.910794      -0.283790   -0.320530    -0.649880   -1.545362   \n",
       " 144    -0.910794      -0.283790    3.119829    -0.927415    1.250181   \n",
       " 135    -0.910794      -0.283790    3.119829    -0.927415    1.250181   \n",
       " 114     1.097943      -0.283790   -0.320530     1.292865    0.691072   \n",
       " ..           ...            ...         ...          ...         ...   \n",
       " 104     1.097943      -0.283790   -0.320530    -0.094810    0.691072   \n",
       " 33     -0.910794      -0.283790   -0.320530    -0.094810   -0.986254   \n",
       " 48      1.097943      -0.283790   -0.320530    -1.204950   -0.427145   \n",
       " 32      1.097943      -0.283790   -0.320530    -0.094810   -0.986254   \n",
       " 47     -0.910794      -0.283790   -0.320530     1.847935   -0.986254   \n",
       " \n",
       "      Rayonnement solaire global (W/m2)  Production solaire (GWh)  \n",
       " 137                           2.498775                 -0.300077  \n",
       " 5                             0.970633                 -0.379142  \n",
       " 144                           0.599546                  3.173217  \n",
       " 135                          -1.730235                  1.383366  \n",
       " 114                           0.636798                 -0.329274  \n",
       " ..                                 ...                       ...  \n",
       " 104                          -0.714093                 -0.215138  \n",
       " 33                           -0.434431                 -0.063276  \n",
       " 48                            1.209424                 -0.704908  \n",
       " 32                           -1.434673                 -0.353815  \n",
       " 47                            1.633177                 -0.623955  \n",
       " \n",
       " [120 rows x 7 columns],\n",
       "      region_nord  region_centre  region_sud  Month Value  Year Value  \\\n",
       " 111    -0.910794      -0.283790   -0.320530     0.737795    0.691072   \n",
       " 21     -0.910794      -0.283790   -0.320530     1.570400   -1.545362   \n",
       " 100     1.097943      -0.283790   -0.320530    -0.649880    0.691072   \n",
       " 44      1.097943      -0.283790   -0.320530     1.570400   -0.986254   \n",
       " 140     1.097943      -0.283790   -0.320530    -0.927415    1.250181   \n",
       " 19     -0.910794      -0.283790   -0.320530     1.292865   -1.545362   \n",
       " 116     1.097943      -0.283790   -0.320530     1.570400    0.691072   \n",
       " 87     -0.910794      -0.283790   -0.320530     0.737795    0.131964   \n",
       " 94      1.097943      -0.283790   -0.320530     1.847935    0.131964   \n",
       " 124    -0.910794      -0.283790    3.119829    -1.204950    1.250181   \n",
       " 95     -0.910794      -0.283790   -0.320530     1.847935    0.131964   \n",
       " 146    -0.910794      -0.283790    3.119829    -0.927415    1.250181   \n",
       " 25     -0.910794      -0.283790   -0.320530    -1.204950   -0.986254   \n",
       " 53     -0.910794      -0.283790   -0.320530    -0.649880   -0.427145   \n",
       " 101    -0.910794      -0.283790   -0.320530    -0.649880    0.691072   \n",
       " 74      1.097943      -0.283790   -0.320530    -0.927415    0.131964   \n",
       " 139    -0.910794      -0.283790    3.119829    -0.927415    1.250181   \n",
       " 103    -0.910794      -0.283790   -0.320530    -0.372345    0.691072   \n",
       " 121    -0.910794       3.523729   -0.320530    -1.204950    1.250181   \n",
       " 14      1.097943      -0.283790   -0.320530     0.737795   -1.545362   \n",
       " 65     -0.910794      -0.283790   -0.320530     1.015330   -0.427145   \n",
       " 97     -0.910794      -0.283790   -0.320530    -1.204950    0.691072   \n",
       " 72      1.097943      -0.283790   -0.320530    -1.204950    0.131964   \n",
       " 84      1.097943      -0.283790   -0.320530     0.460260    0.131964   \n",
       " 60      1.097943      -0.283790   -0.320530     0.460260   -0.427145   \n",
       " 7      -0.910794      -0.283790   -0.320530    -0.372345   -1.545362   \n",
       " 2       1.097943      -0.283790   -0.320530    -0.927415   -1.545362   \n",
       " 109    -0.910794      -0.283790   -0.320530     0.460260    0.691072   \n",
       " 26      1.097943      -0.283790   -0.320530    -0.927415   -0.986254   \n",
       " 10      1.097943      -0.283790   -0.320530     0.182725   -1.545362   \n",
       " 79     -0.910794      -0.283790   -0.320530    -0.372345    0.131964   \n",
       " 20      1.097943      -0.283790   -0.320530     1.570400   -1.545362   \n",
       " 56      1.097943      -0.283790   -0.320530    -0.094810   -0.427145   \n",
       " 51     -0.910794      -0.283790   -0.320530    -0.927415   -0.427145   \n",
       " 37     -0.910794      -0.283790   -0.320530     0.460260   -0.986254   \n",
       " 63     -0.910794      -0.283790   -0.320530     0.737795   -0.427145   \n",
       " 3      -0.910794      -0.283790   -0.320530    -0.927415   -1.545362   \n",
       " 76      1.097943      -0.283790   -0.320530    -0.649880    0.131964   \n",
       " 141     1.097943      -0.283790   -0.320530    -0.927415    1.250181   \n",
       " 152    -0.910794      -0.283790    3.119829    -0.649880    1.250181   \n",
       " 134     1.097943      -0.283790   -0.320530    -1.204950    1.250181   \n",
       " \n",
       "      Rayonnement solaire global (W/m2)  Production solaire (GWh)  \n",
       " 111                          -0.822537                  0.209233  \n",
       " 21                            0.536181                 -0.576746  \n",
       " 100                           0.633422                 -0.297543  \n",
       " 44                           -0.342211                 -0.613391  \n",
       " 140                           0.263003                 -0.257040  \n",
       " 19                           -0.644989                 -0.279750  \n",
       " 116                          -0.600908                 -0.355068  \n",
       " 87                           -0.626975                  0.484940  \n",
       " 94                            1.206607                 -0.650225  \n",
       " 124                          -0.028440                  1.920855  \n",
       " 95                            1.652198                 -0.536849  \n",
       " 146                           1.168129                  3.202726  \n",
       " 25                            0.255670                 -0.566976  \n",
       " 53                            0.863261                 -0.299138  \n",
       " 101                           1.198460                 -0.202878  \n",
       " 74                            0.018565                 -0.314158  \n",
       " 139                          -0.010759                  3.019866  \n",
       " 103                          -0.524973                  0.208784  \n",
       " 121                          -0.019871                 -0.416589  \n",
       " 14                           -1.746664                 -0.351548  \n",
       " 65                           -0.538322                  0.101285  \n",
       " 97                            1.105434                 -0.530513  \n",
       " 72                            0.119571                 -0.340471  \n",
       " 84                           -1.130406                 -0.182335  \n",
       " 60                           -1.639875                 -0.267042  \n",
       " 7                            -0.167465                 -0.049617  \n",
       " 2                             0.902621                 -0.620526  \n",
       " 109                          -0.343709                  0.404150  \n",
       " 26                           -0.354058                 -0.500239  \n",
       " 10                           -1.564828                 -0.367186  \n",
       " 79                           -0.131543                  0.175374  \n",
       " 20                           -0.588733                 -0.579867  \n",
       " 56                           -1.148064                 -0.283120  \n",
       " 51                            0.883658                 -0.461285  \n",
       " 37                           -0.418234                 -0.052337  \n",
       " 63                           -0.773877                  0.025584  \n",
       " 3                             1.858247                 -0.526862  \n",
       " 76                            1.411907                 -0.485098  \n",
       " 141                           1.268247                 -0.580985  \n",
       " 152                          -1.316394                  1.721381  \n",
       " 134                           0.639654                 -0.444565  ,\n",
       " array([0, 0, 1, 1, 0, 1, 1, 0, 1, 0, 1, 1, 0, 1, 1, 0, 1, 1, 0, 1, 0, 0,\n",
       "        1, 0, 1, 1, 1, 0, 0, 1, 1, 0, 0, 1, 1, 0, 1, 0, 1, 1, 0, 0, 0, 0,\n",
       "        0, 0, 0, 0, 0, 0, 0, 0, 1, 1, 1, 0, 0, 0, 0, 0, 1, 0, 1, 1, 0, 1,\n",
       "        1, 1, 0, 0, 0, 1, 0, 1, 1, 1, 0, 1, 0, 1, 0, 1, 1, 1, 1, 0, 1, 1,\n",
       "        0, 0, 1, 1, 1, 0, 0, 0, 0, 1, 1, 0, 0, 1, 1, 1, 1, 1, 1, 1, 0, 1,\n",
       "        1, 1, 0, 0, 0, 1, 1, 0, 0, 0]),\n",
       " array([1, 0, 0, 0, 1, 1, 0, 1, 0, 1, 0, 1, 0, 0, 1, 0, 1, 1, 0, 0, 1, 0,\n",
       "        0, 1, 1, 1, 0, 1, 0, 0, 1, 0, 1, 0, 1, 1, 0, 0, 0, 1, 0])]"
      ]
     },
     "execution_count": 320,
     "metadata": {},
     "output_type": "execute_result"
    }
   ],
   "source": [
    "train_test_split(scaled_inputs[:161][:], targets)"
   ]
  },
  {
   "cell_type": "code",
   "execution_count": 321,
   "metadata": {},
   "outputs": [],
   "source": [
    "x_train, x_test, y_train, y_test = train_test_split(scaled_inputs[:161][:], targets, train_size = 0.8, random_state = 20)"
   ]
  },
  {
   "cell_type": "code",
   "execution_count": 322,
   "metadata": {},
   "outputs": [
    {
     "name": "stdout",
     "output_type": "stream",
     "text": [
      "(128, 7) (128,)\n"
     ]
    }
   ],
   "source": [
    "print(x_train.shape, y_train.shape)"
   ]
  },
  {
   "cell_type": "code",
   "execution_count": 323,
   "metadata": {},
   "outputs": [
    {
     "name": "stdout",
     "output_type": "stream",
     "text": [
      "(33, 7) (33,)\n"
     ]
    }
   ],
   "source": [
    "print(x_test.shape, y_test.shape)"
   ]
  },
  {
   "cell_type": "markdown",
   "metadata": {},
   "source": [
    "# Logisitc regression with sklearn"
   ]
  },
  {
   "cell_type": "code",
   "execution_count": 324,
   "metadata": {},
   "outputs": [],
   "source": [
    "from sklearn.linear_model import LogisticRegression\n",
    "from sklearn import metrics"
   ]
  },
  {
   "cell_type": "markdown",
   "metadata": {},
   "source": [
    "# Training the model"
   ]
  },
  {
   "cell_type": "code",
   "execution_count": 325,
   "metadata": {},
   "outputs": [],
   "source": [
    "reg = LogisticRegression()"
   ]
  },
  {
   "cell_type": "code",
   "execution_count": 326,
   "metadata": {},
   "outputs": [
    {
     "data": {
      "text/plain": [
       "LogisticRegression(C=1.0, class_weight=None, dual=False, fit_intercept=True,\n",
       "                   intercept_scaling=1, l1_ratio=None, max_iter=100,\n",
       "                   multi_class='auto', n_jobs=None, penalty='l2',\n",
       "                   random_state=None, solver='lbfgs', tol=0.0001, verbose=0,\n",
       "                   warm_start=False)"
      ]
     },
     "execution_count": 326,
     "metadata": {},
     "output_type": "execute_result"
    }
   ],
   "source": [
    "reg.fit(x_train, y_train)"
   ]
  },
  {
   "cell_type": "code",
   "execution_count": 327,
   "metadata": {},
   "outputs": [
    {
     "data": {
      "text/plain": [
       "0.921875"
      ]
     },
     "execution_count": 327,
     "metadata": {},
     "output_type": "execute_result"
    }
   ],
   "source": [
    "reg.score(x_train, y_train)"
   ]
  },
  {
   "cell_type": "markdown",
   "metadata": {},
   "source": [
    "### Manually check accuracy"
   ]
  },
  {
   "cell_type": "code",
   "execution_count": 328,
   "metadata": {},
   "outputs": [
    {
     "data": {
      "text/plain": [
       "array([1, 0, 1, 1, 1, 0, 1, 1, 0, 1, 0, 0, 1, 0, 0, 1, 0, 1, 0, 1, 0, 0,\n",
       "       0, 0, 0, 0, 0, 0, 1, 1, 1, 1, 1, 1, 1, 0, 1, 1, 0, 1, 0, 1, 1, 1,\n",
       "       1, 1, 0, 1, 0, 0, 0, 0, 0, 1, 1, 1, 0, 1, 1, 1, 0, 1, 1, 1, 0, 1,\n",
       "       1, 0, 1, 0, 0, 0, 0, 0, 0, 0, 0, 0, 0, 0, 1, 1, 0, 0, 0, 0, 1, 0,\n",
       "       0, 0, 1, 1, 1, 1, 0, 1, 0, 0, 0, 0, 0, 1, 0, 0, 1, 1, 1, 1, 0, 0,\n",
       "       1, 0, 1, 1, 1, 1, 0, 0, 0, 0, 0, 0, 1, 1, 0, 1, 1, 0])"
      ]
     },
     "execution_count": 328,
     "metadata": {},
     "output_type": "execute_result"
    }
   ],
   "source": [
    "model_outputs = reg.predict(x_train)\n",
    "model_outputs"
   ]
  },
  {
   "cell_type": "code",
   "execution_count": 329,
   "metadata": {},
   "outputs": [
    {
     "data": {
      "text/plain": [
       "array([1, 0, 1, 1, 1, 0, 1, 1, 0, 0, 0, 0, 1, 0, 0, 1, 0, 1, 0, 0, 0, 0,\n",
       "       0, 0, 0, 0, 0, 0, 1, 1, 1, 1, 1, 1, 1, 0, 1, 1, 0, 1, 0, 1, 1, 1,\n",
       "       0, 1, 0, 1, 1, 0, 0, 0, 0, 1, 1, 1, 0, 1, 1, 1, 0, 1, 1, 1, 0, 1,\n",
       "       1, 0, 1, 0, 0, 0, 1, 0, 0, 0, 0, 1, 0, 0, 0, 1, 0, 0, 0, 1, 1, 0,\n",
       "       0, 1, 1, 1, 1, 1, 0, 1, 0, 0, 0, 0, 0, 1, 0, 0, 1, 1, 1, 1, 0, 0,\n",
       "       1, 0, 1, 1, 1, 1, 0, 0, 0, 0, 0, 0, 0, 1, 0, 1, 1, 0])"
      ]
     },
     "execution_count": 329,
     "metadata": {},
     "output_type": "execute_result"
    }
   ],
   "source": [
    "y_train"
   ]
  },
  {
   "cell_type": "code",
   "execution_count": 330,
   "metadata": {},
   "outputs": [
    {
     "data": {
      "text/plain": [
       "array([ True,  True,  True,  True,  True,  True,  True,  True,  True,\n",
       "       False,  True,  True,  True,  True,  True,  True,  True,  True,\n",
       "        True, False,  True,  True,  True,  True,  True,  True,  True,\n",
       "        True,  True,  True,  True,  True,  True,  True,  True,  True,\n",
       "        True,  True,  True,  True,  True,  True,  True,  True, False,\n",
       "        True,  True,  True, False,  True,  True,  True,  True,  True,\n",
       "        True,  True,  True,  True,  True,  True,  True,  True,  True,\n",
       "        True,  True,  True,  True,  True,  True,  True,  True,  True,\n",
       "       False,  True,  True,  True,  True, False,  True,  True, False,\n",
       "        True,  True,  True,  True, False,  True,  True,  True, False,\n",
       "        True,  True,  True,  True,  True,  True,  True,  True,  True,\n",
       "        True,  True,  True,  True,  True,  True,  True,  True,  True,\n",
       "        True,  True,  True,  True,  True,  True,  True,  True,  True,\n",
       "        True,  True,  True,  True,  True, False,  True,  True,  True,\n",
       "        True,  True])"
      ]
     },
     "execution_count": 330,
     "metadata": {},
     "output_type": "execute_result"
    }
   ],
   "source": [
    "model_outputs == y_train"
   ]
  },
  {
   "cell_type": "code",
   "execution_count": 331,
   "metadata": {},
   "outputs": [
    {
     "data": {
      "text/plain": [
       "118"
      ]
     },
     "execution_count": 331,
     "metadata": {},
     "output_type": "execute_result"
    }
   ],
   "source": [
    "np.sum(model_outputs==y_train)"
   ]
  },
  {
   "cell_type": "code",
   "execution_count": 332,
   "metadata": {},
   "outputs": [
    {
     "data": {
      "text/plain": [
       "128"
      ]
     },
     "execution_count": 332,
     "metadata": {},
     "output_type": "execute_result"
    }
   ],
   "source": [
    "model_outputs.shape[0]"
   ]
  },
  {
   "cell_type": "code",
   "execution_count": 333,
   "metadata": {},
   "outputs": [
    {
     "data": {
      "text/plain": [
       "0.921875"
      ]
     },
     "execution_count": 333,
     "metadata": {},
     "output_type": "execute_result"
    }
   ],
   "source": [
    "np.sum(model_outputs==y_train)/model_outputs.shape[0]"
   ]
  },
  {
   "cell_type": "markdown",
   "metadata": {},
   "source": [
    "### Finding the intercept and coefficients"
   ]
  },
  {
   "cell_type": "code",
   "execution_count": 334,
   "metadata": {},
   "outputs": [
    {
     "data": {
      "text/plain": [
       "array([0.59627108])"
      ]
     },
     "execution_count": 334,
     "metadata": {},
     "output_type": "execute_result"
    }
   ],
   "source": [
    "reg.intercept_"
   ]
  },
  {
   "cell_type": "code",
   "execution_count": 335,
   "metadata": {},
   "outputs": [
    {
     "data": {
      "text/plain": [
       "array([[-1.31345511, -0.32669136,  0.0029981 , -0.33367046,  1.28124293,\n",
       "        -1.98692308,  2.76522689]])"
      ]
     },
     "execution_count": 335,
     "metadata": {},
     "output_type": "execute_result"
    }
   ],
   "source": [
    "reg.coef_"
   ]
  },
  {
   "cell_type": "code",
   "execution_count": 336,
   "metadata": {},
   "outputs": [
    {
     "data": {
      "text/plain": [
       "array(['region_nord', 'region_centre', 'region_sud', 'Month Value',\n",
       "       'Year Value', 'Rayonnement solaire global (W/m2)',\n",
       "       'Production solaire (GWh)'], dtype=object)"
      ]
     },
     "execution_count": 336,
     "metadata": {},
     "output_type": "execute_result"
    }
   ],
   "source": [
    "unscaled_inputs.columns.values"
   ]
  },
  {
   "cell_type": "code",
   "execution_count": 337,
   "metadata": {},
   "outputs": [],
   "source": [
    "feature_name = unscaled_inputs.columns.values"
   ]
  },
  {
   "cell_type": "code",
   "execution_count": 338,
   "metadata": {
    "scrolled": true
   },
   "outputs": [
    {
     "data": {
      "text/html": [
       "<div>\n",
       "<style scoped>\n",
       "    .dataframe tbody tr th:only-of-type {\n",
       "        vertical-align: middle;\n",
       "    }\n",
       "\n",
       "    .dataframe tbody tr th {\n",
       "        vertical-align: top;\n",
       "    }\n",
       "\n",
       "    .dataframe thead th {\n",
       "        text-align: right;\n",
       "    }\n",
       "</style>\n",
       "<table border=\"1\" class=\"dataframe\">\n",
       "  <thead>\n",
       "    <tr style=\"text-align: right;\">\n",
       "      <th></th>\n",
       "      <th>feature_name</th>\n",
       "      <th>Coefficient</th>\n",
       "    </tr>\n",
       "  </thead>\n",
       "  <tbody>\n",
       "    <tr>\n",
       "      <th>0</th>\n",
       "      <td>region_nord</td>\n",
       "      <td>-1.313455</td>\n",
       "    </tr>\n",
       "    <tr>\n",
       "      <th>1</th>\n",
       "      <td>region_centre</td>\n",
       "      <td>-0.326691</td>\n",
       "    </tr>\n",
       "    <tr>\n",
       "      <th>2</th>\n",
       "      <td>region_sud</td>\n",
       "      <td>0.002998</td>\n",
       "    </tr>\n",
       "    <tr>\n",
       "      <th>3</th>\n",
       "      <td>Month Value</td>\n",
       "      <td>-0.333670</td>\n",
       "    </tr>\n",
       "    <tr>\n",
       "      <th>4</th>\n",
       "      <td>Year Value</td>\n",
       "      <td>1.281243</td>\n",
       "    </tr>\n",
       "    <tr>\n",
       "      <th>5</th>\n",
       "      <td>Rayonnement solaire global (W/m2)</td>\n",
       "      <td>-1.986923</td>\n",
       "    </tr>\n",
       "    <tr>\n",
       "      <th>6</th>\n",
       "      <td>Production solaire (GWh)</td>\n",
       "      <td>2.765227</td>\n",
       "    </tr>\n",
       "  </tbody>\n",
       "</table>\n",
       "</div>"
      ],
      "text/plain": [
       "                        feature_name  Coefficient\n",
       "0                        region_nord    -1.313455\n",
       "1                      region_centre    -0.326691\n",
       "2                         region_sud     0.002998\n",
       "3                        Month Value    -0.333670\n",
       "4                         Year Value     1.281243\n",
       "5  Rayonnement solaire global (W/m2)    -1.986923\n",
       "6           Production solaire (GWh)     2.765227"
      ]
     },
     "execution_count": 338,
     "metadata": {},
     "output_type": "execute_result"
    }
   ],
   "source": [
    "summary_table = pd.DataFrame (columns=['feature_name'], data = feature_name)\n",
    "summary_table['Coefficient'] = np.transpose(reg.coef_)\n",
    "summary_table"
   ]
  },
  {
   "cell_type": "code",
   "execution_count": 339,
   "metadata": {},
   "outputs": [],
   "source": [
    "summary_table.index = summary_table.index+1"
   ]
  },
  {
   "cell_type": "code",
   "execution_count": 340,
   "metadata": {
    "scrolled": true
   },
   "outputs": [
    {
     "data": {
      "text/html": [
       "<div>\n",
       "<style scoped>\n",
       "    .dataframe tbody tr th:only-of-type {\n",
       "        vertical-align: middle;\n",
       "    }\n",
       "\n",
       "    .dataframe tbody tr th {\n",
       "        vertical-align: top;\n",
       "    }\n",
       "\n",
       "    .dataframe thead th {\n",
       "        text-align: right;\n",
       "    }\n",
       "</style>\n",
       "<table border=\"1\" class=\"dataframe\">\n",
       "  <thead>\n",
       "    <tr style=\"text-align: right;\">\n",
       "      <th></th>\n",
       "      <th>feature_name</th>\n",
       "      <th>Coefficient</th>\n",
       "    </tr>\n",
       "  </thead>\n",
       "  <tbody>\n",
       "    <tr>\n",
       "      <th>0</th>\n",
       "      <td>Intercept</td>\n",
       "      <td>0.596271</td>\n",
       "    </tr>\n",
       "    <tr>\n",
       "      <th>1</th>\n",
       "      <td>region_nord</td>\n",
       "      <td>-1.313455</td>\n",
       "    </tr>\n",
       "    <tr>\n",
       "      <th>2</th>\n",
       "      <td>region_centre</td>\n",
       "      <td>-0.326691</td>\n",
       "    </tr>\n",
       "    <tr>\n",
       "      <th>3</th>\n",
       "      <td>region_sud</td>\n",
       "      <td>0.002998</td>\n",
       "    </tr>\n",
       "    <tr>\n",
       "      <th>4</th>\n",
       "      <td>Month Value</td>\n",
       "      <td>-0.333670</td>\n",
       "    </tr>\n",
       "    <tr>\n",
       "      <th>5</th>\n",
       "      <td>Year Value</td>\n",
       "      <td>1.281243</td>\n",
       "    </tr>\n",
       "    <tr>\n",
       "      <th>6</th>\n",
       "      <td>Rayonnement solaire global (W/m2)</td>\n",
       "      <td>-1.986923</td>\n",
       "    </tr>\n",
       "    <tr>\n",
       "      <th>7</th>\n",
       "      <td>Production solaire (GWh)</td>\n",
       "      <td>2.765227</td>\n",
       "    </tr>\n",
       "  </tbody>\n",
       "</table>\n",
       "</div>"
      ],
      "text/plain": [
       "                        feature_name  Coefficient\n",
       "0                          Intercept     0.596271\n",
       "1                        region_nord    -1.313455\n",
       "2                      region_centre    -0.326691\n",
       "3                         region_sud     0.002998\n",
       "4                        Month Value    -0.333670\n",
       "5                         Year Value     1.281243\n",
       "6  Rayonnement solaire global (W/m2)    -1.986923\n",
       "7           Production solaire (GWh)     2.765227"
      ]
     },
     "execution_count": 340,
     "metadata": {},
     "output_type": "execute_result"
    }
   ],
   "source": [
    "summary_table.loc[0] = ['Intercept', reg.intercept_[0]]\n",
    "summary_table = summary_table.sort_index()\n",
    "summary_table"
   ]
  },
  {
   "cell_type": "markdown",
   "metadata": {},
   "source": [
    "## Interpreting the coefficient"
   ]
  },
  {
   "cell_type": "code",
   "execution_count": 341,
   "metadata": {},
   "outputs": [],
   "source": [
    "summary_table['Odd_ratio'] = np.exp(summary_table.Coefficient)"
   ]
  },
  {
   "cell_type": "code",
   "execution_count": 342,
   "metadata": {},
   "outputs": [
    {
     "data": {
      "text/html": [
       "<div>\n",
       "<style scoped>\n",
       "    .dataframe tbody tr th:only-of-type {\n",
       "        vertical-align: middle;\n",
       "    }\n",
       "\n",
       "    .dataframe tbody tr th {\n",
       "        vertical-align: top;\n",
       "    }\n",
       "\n",
       "    .dataframe thead th {\n",
       "        text-align: right;\n",
       "    }\n",
       "</style>\n",
       "<table border=\"1\" class=\"dataframe\">\n",
       "  <thead>\n",
       "    <tr style=\"text-align: right;\">\n",
       "      <th></th>\n",
       "      <th>feature_name</th>\n",
       "      <th>Coefficient</th>\n",
       "      <th>Odd_ratio</th>\n",
       "    </tr>\n",
       "  </thead>\n",
       "  <tbody>\n",
       "    <tr>\n",
       "      <th>0</th>\n",
       "      <td>Intercept</td>\n",
       "      <td>0.596271</td>\n",
       "      <td>1.815337</td>\n",
       "    </tr>\n",
       "    <tr>\n",
       "      <th>1</th>\n",
       "      <td>region_nord</td>\n",
       "      <td>-1.313455</td>\n",
       "      <td>0.268889</td>\n",
       "    </tr>\n",
       "    <tr>\n",
       "      <th>2</th>\n",
       "      <td>region_centre</td>\n",
       "      <td>-0.326691</td>\n",
       "      <td>0.721306</td>\n",
       "    </tr>\n",
       "    <tr>\n",
       "      <th>3</th>\n",
       "      <td>region_sud</td>\n",
       "      <td>0.002998</td>\n",
       "      <td>1.003003</td>\n",
       "    </tr>\n",
       "    <tr>\n",
       "      <th>4</th>\n",
       "      <td>Month Value</td>\n",
       "      <td>-0.333670</td>\n",
       "      <td>0.716290</td>\n",
       "    </tr>\n",
       "    <tr>\n",
       "      <th>5</th>\n",
       "      <td>Year Value</td>\n",
       "      <td>1.281243</td>\n",
       "      <td>3.601113</td>\n",
       "    </tr>\n",
       "    <tr>\n",
       "      <th>6</th>\n",
       "      <td>Rayonnement solaire global (W/m2)</td>\n",
       "      <td>-1.986923</td>\n",
       "      <td>0.137117</td>\n",
       "    </tr>\n",
       "    <tr>\n",
       "      <th>7</th>\n",
       "      <td>Production solaire (GWh)</td>\n",
       "      <td>2.765227</td>\n",
       "      <td>15.882643</td>\n",
       "    </tr>\n",
       "  </tbody>\n",
       "</table>\n",
       "</div>"
      ],
      "text/plain": [
       "                        feature_name  Coefficient  Odd_ratio\n",
       "0                          Intercept     0.596271   1.815337\n",
       "1                        region_nord    -1.313455   0.268889\n",
       "2                      region_centre    -0.326691   0.721306\n",
       "3                         region_sud     0.002998   1.003003\n",
       "4                        Month Value    -0.333670   0.716290\n",
       "5                         Year Value     1.281243   3.601113\n",
       "6  Rayonnement solaire global (W/m2)    -1.986923   0.137117\n",
       "7           Production solaire (GWh)     2.765227  15.882643"
      ]
     },
     "execution_count": 342,
     "metadata": {},
     "output_type": "execute_result"
    }
   ],
   "source": [
    "summary_table"
   ]
  },
  {
   "cell_type": "code",
   "execution_count": 343,
   "metadata": {},
   "outputs": [
    {
     "data": {
      "text/html": [
       "<div>\n",
       "<style scoped>\n",
       "    .dataframe tbody tr th:only-of-type {\n",
       "        vertical-align: middle;\n",
       "    }\n",
       "\n",
       "    .dataframe tbody tr th {\n",
       "        vertical-align: top;\n",
       "    }\n",
       "\n",
       "    .dataframe thead th {\n",
       "        text-align: right;\n",
       "    }\n",
       "</style>\n",
       "<table border=\"1\" class=\"dataframe\">\n",
       "  <thead>\n",
       "    <tr style=\"text-align: right;\">\n",
       "      <th></th>\n",
       "      <th>feature_name</th>\n",
       "      <th>Coefficient</th>\n",
       "      <th>Odd_ratio</th>\n",
       "    </tr>\n",
       "  </thead>\n",
       "  <tbody>\n",
       "    <tr>\n",
       "      <th>7</th>\n",
       "      <td>Production solaire (GWh)</td>\n",
       "      <td>2.765227</td>\n",
       "      <td>15.882643</td>\n",
       "    </tr>\n",
       "    <tr>\n",
       "      <th>5</th>\n",
       "      <td>Year Value</td>\n",
       "      <td>1.281243</td>\n",
       "      <td>3.601113</td>\n",
       "    </tr>\n",
       "    <tr>\n",
       "      <th>0</th>\n",
       "      <td>Intercept</td>\n",
       "      <td>0.596271</td>\n",
       "      <td>1.815337</td>\n",
       "    </tr>\n",
       "    <tr>\n",
       "      <th>3</th>\n",
       "      <td>region_sud</td>\n",
       "      <td>0.002998</td>\n",
       "      <td>1.003003</td>\n",
       "    </tr>\n",
       "    <tr>\n",
       "      <th>2</th>\n",
       "      <td>region_centre</td>\n",
       "      <td>-0.326691</td>\n",
       "      <td>0.721306</td>\n",
       "    </tr>\n",
       "    <tr>\n",
       "      <th>4</th>\n",
       "      <td>Month Value</td>\n",
       "      <td>-0.333670</td>\n",
       "      <td>0.716290</td>\n",
       "    </tr>\n",
       "    <tr>\n",
       "      <th>1</th>\n",
       "      <td>region_nord</td>\n",
       "      <td>-1.313455</td>\n",
       "      <td>0.268889</td>\n",
       "    </tr>\n",
       "    <tr>\n",
       "      <th>6</th>\n",
       "      <td>Rayonnement solaire global (W/m2)</td>\n",
       "      <td>-1.986923</td>\n",
       "      <td>0.137117</td>\n",
       "    </tr>\n",
       "  </tbody>\n",
       "</table>\n",
       "</div>"
      ],
      "text/plain": [
       "                        feature_name  Coefficient  Odd_ratio\n",
       "7           Production solaire (GWh)     2.765227  15.882643\n",
       "5                         Year Value     1.281243   3.601113\n",
       "0                          Intercept     0.596271   1.815337\n",
       "3                         region_sud     0.002998   1.003003\n",
       "2                      region_centre    -0.326691   0.721306\n",
       "4                        Month Value    -0.333670   0.716290\n",
       "1                        region_nord    -1.313455   0.268889\n",
       "6  Rayonnement solaire global (W/m2)    -1.986923   0.137117"
      ]
     },
     "execution_count": 343,
     "metadata": {},
     "output_type": "execute_result"
    }
   ],
   "source": [
    "summary_table.sort_values('Odd_ratio', ascending=False)"
   ]
  },
  {
   "cell_type": "markdown",
   "metadata": {},
   "source": [
    "# Testing the model"
   ]
  },
  {
   "cell_type": "code",
   "execution_count": 344,
   "metadata": {},
   "outputs": [
    {
     "data": {
      "text/plain": [
       "0.7575757575757576"
      ]
     },
     "execution_count": 344,
     "metadata": {},
     "output_type": "execute_result"
    }
   ],
   "source": [
    "reg.score(x_test, y_test)"
   ]
  },
  {
   "cell_type": "code",
   "execution_count": 345,
   "metadata": {},
   "outputs": [
    {
     "data": {
      "text/plain": [
       "array([[1.68709188e-02, 9.83129081e-01],\n",
       "       [8.90675667e-01, 1.09324333e-01],\n",
       "       [6.18210300e-01, 3.81789700e-01],\n",
       "       [3.01830820e-01, 6.98169180e-01],\n",
       "       [7.26718081e-01, 2.73281919e-01],\n",
       "       [1.99758156e-01, 8.00241844e-01],\n",
       "       [8.40589050e-01, 1.59410950e-01],\n",
       "       [6.52033684e-01, 3.47966316e-01],\n",
       "       [7.73414120e-01, 2.26585880e-01],\n",
       "       [1.77732614e-01, 8.22267386e-01],\n",
       "       [5.82542261e-01, 4.17457739e-01],\n",
       "       [5.50885139e-01, 4.49114861e-01],\n",
       "       [3.02687010e-01, 6.97312990e-01],\n",
       "       [6.56846505e-08, 9.99999934e-01],\n",
       "       [9.96357484e-01, 3.64251638e-03],\n",
       "       [7.99766098e-01, 2.00233902e-01],\n",
       "       [5.14309228e-06, 9.99994857e-01],\n",
       "       [1.02965034e-01, 8.97034966e-01],\n",
       "       [7.76574257e-05, 9.99922343e-01],\n",
       "       [6.52966702e-01, 3.47033298e-01],\n",
       "       [6.84086246e-01, 3.15913754e-01],\n",
       "       [9.75678084e-01, 2.43219165e-02],\n",
       "       [9.63731198e-01, 3.62688018e-02],\n",
       "       [1.78246005e-01, 8.21753995e-01],\n",
       "       [6.66562681e-02, 9.33343732e-01],\n",
       "       [2.56960006e-02, 9.74303999e-01],\n",
       "       [9.97253280e-01, 2.74672030e-03],\n",
       "       [1.57153414e-01, 8.42846586e-01],\n",
       "       [8.90986297e-01, 1.09013703e-01],\n",
       "       [8.69202470e-01, 1.30797530e-01],\n",
       "       [7.96084949e-01, 2.03915051e-01],\n",
       "       [7.28916425e-01, 2.71083575e-01],\n",
       "       [5.73826075e-01, 4.26173925e-01]])"
      ]
     },
     "execution_count": 345,
     "metadata": {},
     "output_type": "execute_result"
    }
   ],
   "source": [
    "predicted_proba = reg.predict_proba(x_test)\n",
    "predicted_proba"
   ]
  },
  {
   "cell_type": "code",
   "execution_count": 346,
   "metadata": {},
   "outputs": [
    {
     "data": {
      "text/plain": [
       "(33, 2)"
      ]
     },
     "execution_count": 346,
     "metadata": {},
     "output_type": "execute_result"
    }
   ],
   "source": [
    "predicted_proba.shape"
   ]
  },
  {
   "cell_type": "code",
   "execution_count": 347,
   "metadata": {},
   "outputs": [
    {
     "data": {
      "text/plain": [
       "array([0.98312908, 0.10932433, 0.3817897 , 0.69816918, 0.27328192,\n",
       "       0.80024184, 0.15941095, 0.34796632, 0.22658588, 0.82226739,\n",
       "       0.41745774, 0.44911486, 0.69731299, 0.99999993, 0.00364252,\n",
       "       0.2002339 , 0.99999486, 0.89703497, 0.99992234, 0.3470333 ,\n",
       "       0.31591375, 0.02432192, 0.0362688 , 0.821754  , 0.93334373,\n",
       "       0.974304  , 0.00274672, 0.84284659, 0.1090137 , 0.13079753,\n",
       "       0.20391505, 0.27108358, 0.42617393])"
      ]
     },
     "execution_count": 347,
     "metadata": {},
     "output_type": "execute_result"
    }
   ],
   "source": [
    "predicted_proba[:,1]"
   ]
  },
  {
   "cell_type": "markdown",
   "metadata": {},
   "source": [
    "# Saving the model"
   ]
  },
  {
   "cell_type": "code",
   "execution_count": 56,
   "metadata": {},
   "outputs": [],
   "source": [
    "import pickle"
   ]
  },
  {
   "cell_type": "code",
   "execution_count": 58,
   "metadata": {},
   "outputs": [],
   "source": [
    "with open('model','wb') as file:\n",
    "    pickle.dump(reg, file)"
   ]
  },
  {
   "cell_type": "code",
   "execution_count": 59,
   "metadata": {},
   "outputs": [],
   "source": [
    "with open('scaler','wb') as file:\n",
    "    pickle.dump(absenteeism_scaler, file)"
   ]
  },
  {
   "cell_type": "code",
   "execution_count": null,
   "metadata": {},
   "outputs": [],
   "source": []
  }
 ],
 "metadata": {
  "kernelspec": {
   "display_name": "Python 3",
   "language": "python",
   "name": "python3"
  },
  "language_info": {
   "codemirror_mode": {
    "name": "ipython",
    "version": 3
   },
   "file_extension": ".py",
   "mimetype": "text/x-python",
   "name": "python",
   "nbconvert_exporter": "python",
   "pygments_lexer": "ipython3",
   "version": "3.8.5"
  }
 },
 "nbformat": 4,
 "nbformat_minor": 4
}
